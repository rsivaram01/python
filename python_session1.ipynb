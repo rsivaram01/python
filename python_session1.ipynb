{
 "cells": [
  {
   "cell_type": "code",
   "execution_count": 1,
   "id": "de34a5d2-845b-4763-8e72-983f1ea4f54d",
   "metadata": {},
   "outputs": [
    {
     "name": "stdout",
     "output_type": "stream",
     "text": [
      "welcome\n"
     ]
    }
   ],
   "source": [
    "print(\"welcome\")"
   ]
  },
  {
   "cell_type": "code",
   "execution_count": null,
   "id": "6c139cc0-addd-45eb-8061-4999b8453393",
   "metadata": {},
   "outputs": [],
   "source": [
    "PYTHON :-\n",
    "=======\n",
    "\n",
    "Data eng :-\n",
    "=========\n",
    "\n",
    "wrtomg some code ---> by using spark --> we process data \n",
    "\n",
    "python  -----> 70 %  ----> ease of use ---> \n",
    "java\n",
    "R\n",
    "Scala  -----> 30 %\n",
    "\n"
   ]
  },
  {
   "cell_type": "code",
   "execution_count": null,
   "id": "7278cd39-bb2d-430a-935d-8877f03cbcd9",
   "metadata": {},
   "outputs": [],
   "source": [
    "Interview:-\n",
    "==========\n",
    "\n",
    "Python  :-\n",
    "========\n",
    "\n",
    "1. The is my book  --> swapcase  --> logical ability\n",
    "2. what is list and tuple and diff\n",
    "what is mutable and what is immutable\n",
    "\n",
    "SQL\n",
    "Spark concepts\n",
    "pyspark\n",
    "\n",
    "any cloud --> Azure ( databricks )\n",
    "\n"
   ]
  },
  {
   "cell_type": "code",
   "execution_count": null,
   "id": "246e91ba-6af0-4eae-b7d1-0605b770a33b",
   "metadata": {},
   "outputs": [],
   "source": [
    "Python:-\n",
    "======"
   ]
  },
  {
   "cell_type": "code",
   "execution_count": null,
   "id": "09ed7705-6081-4079-9546-8a8e375002bd",
   "metadata": {},
   "outputs": [],
   "source": [
    "Variable:-\n",
    "=========\n",
    "\n",
    "var is just a container used to store some value"
   ]
  },
  {
   "cell_type": "code",
   "execution_count": 2,
   "id": "b64d60b3-51e0-4486-beaf-196b7bf7944b",
   "metadata": {},
   "outputs": [],
   "source": [
    "a = 10"
   ]
  },
  {
   "cell_type": "code",
   "execution_count": 3,
   "id": "cc659036-ccb3-4623-8bdc-49de211abce8",
   "metadata": {},
   "outputs": [
    {
     "name": "stdout",
     "output_type": "stream",
     "text": [
      "10\n"
     ]
    }
   ],
   "source": [
    "print(a)"
   ]
  },
  {
   "cell_type": "code",
   "execution_count": null,
   "id": "eda14fed-10f2-4c84-8c91-19ea0812a8b5",
   "metadata": {},
   "outputs": [],
   "source": [
    "what are the rules to define a variable:-\n",
    "\n",
    "1. no space in the var names\n",
    "2. no special char in the var name should be allowed\n",
    "3. var name should not start with a number"
   ]
  },
  {
   "cell_type": "code",
   "execution_count": 4,
   "id": "8f3ce33a-33f8-4189-9602-bff8c25f3e7b",
   "metadata": {},
   "outputs": [
    {
     "ename": "SyntaxError",
     "evalue": "invalid syntax (1364220455.py, line 1)",
     "output_type": "error",
     "traceback": [
      "\u001b[1;36m  Cell \u001b[1;32mIn[4], line 1\u001b[1;36m\u001b[0m\n\u001b[1;33m    full name = 'aaaa'\u001b[0m\n\u001b[1;37m         ^\u001b[0m\n\u001b[1;31mSyntaxError\u001b[0m\u001b[1;31m:\u001b[0m invalid syntax\n"
     ]
    }
   ],
   "source": [
    "full name = 'aaaa'"
   ]
  },
  {
   "cell_type": "code",
   "execution_count": 5,
   "id": "b7337e67-bfc3-4eba-aa1e-7f6be1343eb5",
   "metadata": {},
   "outputs": [],
   "source": [
    "full_name = 'aaaa'"
   ]
  },
  {
   "cell_type": "code",
   "execution_count": 6,
   "id": "5d9a2ab0-4f01-4511-aa82-a5386681ed99",
   "metadata": {},
   "outputs": [
    {
     "data": {
      "text/plain": [
       "'aaaa'"
      ]
     },
     "execution_count": 6,
     "metadata": {},
     "output_type": "execute_result"
    }
   ],
   "source": [
    "full_name"
   ]
  },
  {
   "cell_type": "code",
   "execution_count": 7,
   "id": "ded55cfe-f468-44fb-a511-0ae79ea0b2c3",
   "metadata": {},
   "outputs": [
    {
     "ename": "SyntaxError",
     "evalue": "cannot assign to expression here. Maybe you meant '==' instead of '='? (3604529628.py, line 1)",
     "output_type": "error",
     "traceback": [
      "\u001b[1;36m  Cell \u001b[1;32mIn[7], line 1\u001b[1;36m\u001b[0m\n\u001b[1;33m    aa&aa = 12\u001b[0m\n\u001b[1;37m    ^\u001b[0m\n\u001b[1;31mSyntaxError\u001b[0m\u001b[1;31m:\u001b[0m cannot assign to expression here. Maybe you meant '==' instead of '='?\n"
     ]
    }
   ],
   "source": [
    "aa&aa = 12"
   ]
  },
  {
   "cell_type": "code",
   "execution_count": 8,
   "id": "3770013e-14f1-4555-9661-f551806f6b60",
   "metadata": {},
   "outputs": [
    {
     "ename": "SyntaxError",
     "evalue": "invalid syntax (3681206316.py, line 1)",
     "output_type": "error",
     "traceback": [
      "\u001b[1;36m  Cell \u001b[1;32mIn[8], line 1\u001b[1;36m\u001b[0m\n\u001b[1;33m    &aaaa = 12\u001b[0m\n\u001b[1;37m    ^\u001b[0m\n\u001b[1;31mSyntaxError\u001b[0m\u001b[1;31m:\u001b[0m invalid syntax\n"
     ]
    }
   ],
   "source": [
    "&aaaa = 12"
   ]
  },
  {
   "cell_type": "code",
   "execution_count": 9,
   "id": "57a2daef-3f99-4eae-9a1a-63bfa84102e0",
   "metadata": {},
   "outputs": [
    {
     "ename": "SyntaxError",
     "evalue": "invalid decimal literal (284097309.py, line 1)",
     "output_type": "error",
     "traceback": [
      "\u001b[1;36m  Cell \u001b[1;32mIn[9], line 1\u001b[1;36m\u001b[0m\n\u001b[1;33m    1name = 'saass'\u001b[0m\n\u001b[1;37m    ^\u001b[0m\n\u001b[1;31mSyntaxError\u001b[0m\u001b[1;31m:\u001b[0m invalid decimal literal\n"
     ]
    }
   ],
   "source": [
    "1name = 'saass'"
   ]
  },
  {
   "cell_type": "code",
   "execution_count": 10,
   "id": "3abf623e-080b-4eaf-b7bf-489e92fcde7b",
   "metadata": {},
   "outputs": [],
   "source": [
    "name1 = 'saassa'"
   ]
  },
  {
   "cell_type": "code",
   "execution_count": 11,
   "id": "832e8c4d-92c5-4a1e-959b-91c105557333",
   "metadata": {},
   "outputs": [
    {
     "data": {
      "text/plain": [
       "'saassa'"
      ]
     },
     "execution_count": 11,
     "metadata": {},
     "output_type": "execute_result"
    }
   ],
   "source": [
    "name1"
   ]
  },
  {
   "cell_type": "code",
   "execution_count": null,
   "id": "5cc9fbee-e67e-4b63-878e-425a4fcbeaf6",
   "metadata": {},
   "outputs": [],
   "source": [
    "Comments:-\n",
    "========\n",
    "\n",
    " two types comments\n",
    "\n",
    "single line comments\n",
    "multi line comments"
   ]
  },
  {
   "cell_type": "code",
   "execution_count": 14,
   "id": "b942d4d2-0ea1-4d04-bd69-4bbb438fcef3",
   "metadata": {},
   "outputs": [],
   "source": [
    "# this is a sinle line comment\n",
    "\n",
    "# this is a sinle line comment"
   ]
  },
  {
   "cell_type": "code",
   "execution_count": 15,
   "id": "5dabd146-0849-4486-a4dc-87d25e311f95",
   "metadata": {},
   "outputs": [
    {
     "data": {
      "text/plain": [
       "'\\n\\nthis is a multiline comment\\n\\nashabshbsa\\nashasb\\n\\n'"
      ]
     },
     "execution_count": 15,
     "metadata": {},
     "output_type": "execute_result"
    }
   ],
   "source": [
    "# multi line comments\n",
    "\n",
    "\n",
    "\"\"\"\n",
    "\n",
    "this is a multiline comment\n",
    "\n",
    "ashabshbsa\n",
    "ashasb\n",
    "\n",
    "\"\"\"\n"
   ]
  },
  {
   "cell_type": "code",
   "execution_count": null,
   "id": "d95fe1d6-b87e-4c41-9687-c3392ff5d437",
   "metadata": {},
   "outputs": [],
   "source": []
  },
  {
   "cell_type": "code",
   "execution_count": null,
   "id": "dda7ab59-f9e4-4429-bea1-7b0517ae4773",
   "metadata": {},
   "outputs": [],
   "source": [
    "Intro to Datatypes in Python:-\n",
    "============================\n",
    "\n",
    "1. String   --> str\n",
    "2. list     --> list\n",
    "3. tuple    --> tuple\n",
    "4. Dict     --> dict\n",
    "5. sets     --> set\n"
   ]
  },
  {
   "cell_type": "code",
   "execution_count": null,
   "id": "59304ca4-d31a-4c3c-b2e8-ab3e7a29c07d",
   "metadata": {},
   "outputs": [],
   "source": [
    "# 1. String   --> str\n",
    "\n",
    "What is a string?\n",
    "\n",
    "string is a collection of char or series of chars\n",
    "\n",
    "prop of string:-\n",
    "-------------\n",
    "\n",
    "String is immutable datatype\n",
    "\n",
    "immutable :- after declaring of a string there should be any change chnage or modification\n",
    "\n"
   ]
  },
  {
   "cell_type": "code",
   "execution_count": null,
   "id": "7c4af076-a580-4305-bc2a-39cc8f7d2619",
   "metadata": {},
   "outputs": [],
   "source": [
    "# how to define a string\n",
    "\n",
    "3 ways\n",
    "\n",
    "1. 'pyhon'\n",
    "2. \"python\"\n",
    "3. '''python'''"
   ]
  },
  {
   "cell_type": "code",
   "execution_count": 16,
   "id": "779b2a48-40e7-4cc3-8ed9-e536d2201f5a",
   "metadata": {},
   "outputs": [],
   "source": [
    "sent1 = 'this is my book'"
   ]
  },
  {
   "cell_type": "code",
   "execution_count": 17,
   "id": "81ad95a0-cfe9-48b6-bd99-bbfb543ca095",
   "metadata": {},
   "outputs": [
    {
     "data": {
      "text/plain": [
       "'this is my book'"
      ]
     },
     "execution_count": 17,
     "metadata": {},
     "output_type": "execute_result"
    }
   ],
   "source": [
    "sent1"
   ]
  },
  {
   "cell_type": "code",
   "execution_count": null,
   "id": "09de3685-0803-4ba4-9bf1-4102734f043f",
   "metadata": {},
   "outputs": [],
   "source": [
    "# this is murali's notebook"
   ]
  },
  {
   "cell_type": "code",
   "execution_count": 20,
   "id": "3b60ef53-a3f0-45c2-bc5b-73f593a7f3a9",
   "metadata": {},
   "outputs": [],
   "source": [
    "sent2 = \"this is murali's notebook\""
   ]
  },
  {
   "cell_type": "code",
   "execution_count": 21,
   "id": "be473086-2369-467a-9148-ba826e59b4a2",
   "metadata": {},
   "outputs": [
    {
     "data": {
      "text/plain": [
       "\"this is murali's notebook\""
      ]
     },
     "execution_count": 21,
     "metadata": {},
     "output_type": "execute_result"
    }
   ],
   "source": [
    "sent2"
   ]
  },
  {
   "cell_type": "code",
   "execution_count": null,
   "id": "e0c1fb32-d58e-4925-89b6-4649749f5aa7",
   "metadata": {},
   "outputs": [],
   "source": [
    "methods:-\n",
    "=======\n",
    "\n",
    "title()\n",
    "upper()\n",
    "lower()\n",
    "islower()\n",
    "isupper()\n",
    "swapcase()\n",
    "isdigit()\n",
    "isalpha()\n"
   ]
  },
  {
   "cell_type": "code",
   "execution_count": 30,
   "id": "30d6a6d0-8a93-4f03-b9cf-16c2fa6961ea",
   "metadata": {},
   "outputs": [],
   "source": [
    "name1 = 'sravani is Good girl'"
   ]
  },
  {
   "cell_type": "code",
   "execution_count": 25,
   "id": "7a5d3a24-08b7-41c7-a5ed-48d075eb6b83",
   "metadata": {},
   "outputs": [
    {
     "data": {
      "text/plain": [
       "'Sravani Is Good Girl'"
      ]
     },
     "execution_count": 25,
     "metadata": {},
     "output_type": "execute_result"
    }
   ],
   "source": [
    "name1.title()"
   ]
  },
  {
   "cell_type": "code",
   "execution_count": 26,
   "id": "3e001596-eef2-44e4-8741-53f62044f210",
   "metadata": {},
   "outputs": [
    {
     "data": {
      "text/plain": [
       "'SRAVANI IS GOOD GIRL'"
      ]
     },
     "execution_count": 26,
     "metadata": {},
     "output_type": "execute_result"
    }
   ],
   "source": [
    "name1.upper()"
   ]
  },
  {
   "cell_type": "code",
   "execution_count": 27,
   "id": "388fa75e-27af-42c8-9b27-311cd7d75550",
   "metadata": {},
   "outputs": [
    {
     "data": {
      "text/plain": [
       "'sravani is good girl'"
      ]
     },
     "execution_count": 27,
     "metadata": {},
     "output_type": "execute_result"
    }
   ],
   "source": [
    "name1.lower()"
   ]
  },
  {
   "cell_type": "code",
   "execution_count": 28,
   "id": "127da126-75d3-48fc-bdce-2a4603dc210d",
   "metadata": {},
   "outputs": [
    {
     "data": {
      "text/plain": [
       "True"
      ]
     },
     "execution_count": 28,
     "metadata": {},
     "output_type": "execute_result"
    }
   ],
   "source": [
    "name1.islower()"
   ]
  },
  {
   "cell_type": "code",
   "execution_count": 31,
   "id": "827a31c4-ac52-4d9d-b4fb-8ce26db0b968",
   "metadata": {},
   "outputs": [
    {
     "data": {
      "text/plain": [
       "'SRAVANI IS gOOD GIRL'"
      ]
     },
     "execution_count": 31,
     "metadata": {},
     "output_type": "execute_result"
    }
   ],
   "source": [
    "name1.swapcase()"
   ]
  },
  {
   "cell_type": "code",
   "execution_count": 32,
   "id": "5b36a175-62a4-4b16-9ec7-c3b2c42d3de3",
   "metadata": {},
   "outputs": [
    {
     "data": {
      "text/plain": [
       "False"
      ]
     },
     "execution_count": 32,
     "metadata": {},
     "output_type": "execute_result"
    }
   ],
   "source": [
    "name1.isdigit()"
   ]
  },
  {
   "cell_type": "code",
   "execution_count": 33,
   "id": "07f4be22-3e9d-4916-8306-7e1c9300bfc3",
   "metadata": {},
   "outputs": [
    {
     "data": {
      "text/plain": [
       "False"
      ]
     },
     "execution_count": 33,
     "metadata": {},
     "output_type": "execute_result"
    }
   ],
   "source": [
    "name1.isalpha()"
   ]
  },
  {
   "cell_type": "code",
   "execution_count": null,
   "id": "7a1ed6de-45d7-4dcf-a62d-f026256a981e",
   "metadata": {},
   "outputs": [],
   "source": [
    "# f string:-\n",
    "==========\n",
    "\n",
    "formatted strings"
   ]
  },
  {
   "cell_type": "code",
   "execution_count": 34,
   "id": "5f4330b4-9e3a-497d-a54a-ed23fd1b78ff",
   "metadata": {},
   "outputs": [],
   "source": [
    "course = 'DE'"
   ]
  },
  {
   "cell_type": "code",
   "execution_count": 37,
   "id": "7c5bb259-2022-4a1d-9dd5-650a5da1ce2a",
   "metadata": {},
   "outputs": [],
   "source": [
    "ss = f\"I have enroled in {course}\""
   ]
  },
  {
   "cell_type": "code",
   "execution_count": 38,
   "id": "a40616a6-5861-4252-b6e5-6797773435ad",
   "metadata": {},
   "outputs": [
    {
     "data": {
      "text/plain": [
       "'I have enroled in DE'"
      ]
     },
     "execution_count": 38,
     "metadata": {},
     "output_type": "execute_result"
    }
   ],
   "source": [
    "ss"
   ]
  },
  {
   "cell_type": "code",
   "execution_count": null,
   "id": "52d21fcb-e796-44c4-b1f0-b6f1ad7e3d7a",
   "metadata": {},
   "outputs": [],
   "source": [
    "Validation of datatypes:-\n",
    "========================"
   ]
  },
  {
   "cell_type": "code",
   "execution_count": 39,
   "id": "67cd1ee1-63fa-4628-846c-a112d631bb83",
   "metadata": {},
   "outputs": [
    {
     "data": {
      "text/plain": [
       "str"
      ]
     },
     "execution_count": 39,
     "metadata": {},
     "output_type": "execute_result"
    }
   ],
   "source": [
    "type(ss)"
   ]
  },
  {
   "cell_type": "code",
   "execution_count": 40,
   "id": "a2caec23-7ec0-483f-b6fb-b1e982e85a3a",
   "metadata": {},
   "outputs": [],
   "source": [
    "a,b,c = 1,2,3"
   ]
  },
  {
   "cell_type": "code",
   "execution_count": 41,
   "id": "314dcb17-fc7c-4816-b89c-5426d4581c8c",
   "metadata": {},
   "outputs": [
    {
     "name": "stdout",
     "output_type": "stream",
     "text": [
      "1 2 3\n"
     ]
    }
   ],
   "source": [
    "print(a,b,c)"
   ]
  },
  {
   "cell_type": "code",
   "execution_count": null,
   "id": "bc35c481-09e0-4504-b0f6-720aeef3dff3",
   "metadata": {},
   "outputs": [],
   "source": [
    "Tab Delimeter:-\n",
    "==============\n",
    "\n",
    "\\t, \\n"
   ]
  },
  {
   "cell_type": "code",
   "execution_count": 43,
   "id": "126b5052-6cef-4777-b8f8-6f2e27937dca",
   "metadata": {},
   "outputs": [
    {
     "name": "stdout",
     "output_type": "stream",
     "text": [
      "\tpython\n"
     ]
    }
   ],
   "source": [
    "print('\\tpython')"
   ]
  },
  {
   "cell_type": "code",
   "execution_count": 44,
   "id": "d44a9640-8fd0-43c1-a250-eda882b2a5d3",
   "metadata": {},
   "outputs": [
    {
     "name": "stdout",
     "output_type": "stream",
     "text": [
      "python\n"
     ]
    }
   ],
   "source": [
    "print('python')"
   ]
  },
  {
   "cell_type": "code",
   "execution_count": 45,
   "id": "b941b81b-3f4f-4f95-b414-49dc7c78152f",
   "metadata": {},
   "outputs": [
    {
     "name": "stdout",
     "output_type": "stream",
     "text": [
      "this is the DE \n",
      " course\n"
     ]
    }
   ],
   "source": [
    "print('this is the DE \\n course')"
   ]
  },
  {
   "cell_type": "code",
   "execution_count": null,
   "id": "2e34dc69-f3bd-414a-b85f-c21f3dad8602",
   "metadata": {},
   "outputs": [],
   "source": [
    "rstrip()\n",
    "lstrip()\n",
    "strip()\n",
    "\n",
    "\n",
    "stripping is actually used to remove white spaces from our string"
   ]
  },
  {
   "cell_type": "code",
   "execution_count": 46,
   "id": "823ff334-aef7-48ef-a658-ca8056fcef4e",
   "metadata": {},
   "outputs": [],
   "source": [
    "name = '      saasasas'"
   ]
  },
  {
   "cell_type": "markdown",
   "id": "ab532138-16f6-4db2-bf80-3727b4376b82",
   "metadata": {},
   "source": []
  },
  {
   "cell_type": "code",
   "execution_count": 48,
   "id": "0d439928-1784-4fe2-a104-3654d1da1882",
   "metadata": {},
   "outputs": [
    {
     "data": {
      "text/plain": [
       "'saasasas'"
      ]
     },
     "execution_count": 48,
     "metadata": {},
     "output_type": "execute_result"
    }
   ],
   "source": [
    "name.lstrip()"
   ]
  },
  {
   "cell_type": "code",
   "execution_count": 49,
   "id": "32762439-19cc-42b2-b4a1-859dd532fff2",
   "metadata": {},
   "outputs": [],
   "source": [
    "name = 'saasasas     '"
   ]
  },
  {
   "cell_type": "code",
   "execution_count": 50,
   "id": "31b2a725-81fe-45c5-ab1d-49e75c4c03e8",
   "metadata": {},
   "outputs": [
    {
     "data": {
      "text/plain": [
       "'saasasas'"
      ]
     },
     "execution_count": 50,
     "metadata": {},
     "output_type": "execute_result"
    }
   ],
   "source": [
    "name.rstrip()"
   ]
  },
  {
   "cell_type": "code",
   "execution_count": 51,
   "id": "35636a7a-f3e6-4939-9214-ca5a929e3bcb",
   "metadata": {},
   "outputs": [
    {
     "data": {
      "text/plain": [
       "'saasasas     '"
      ]
     },
     "execution_count": 51,
     "metadata": {},
     "output_type": "execute_result"
    }
   ],
   "source": [
    "name"
   ]
  },
  {
   "cell_type": "code",
   "execution_count": 52,
   "id": "a8b0f18d-3987-4457-ac93-dc88055b40d3",
   "metadata": {},
   "outputs": [
    {
     "data": {
      "text/plain": [
       "'saasasas'"
      ]
     },
     "execution_count": 52,
     "metadata": {},
     "output_type": "execute_result"
    }
   ],
   "source": [
    "# strip()\n",
    "\n",
    "name.strip()\n"
   ]
  },
  {
   "cell_type": "code",
   "execution_count": 53,
   "id": "1ede1a54-135d-40b8-bcb2-5e808d393f9e",
   "metadata": {},
   "outputs": [
    {
     "data": {
      "text/plain": [
       "12"
      ]
     },
     "execution_count": 53,
     "metadata": {},
     "output_type": "execute_result"
    }
   ],
   "source": [
    "3*4"
   ]
  },
  {
   "cell_type": "code",
   "execution_count": 54,
   "id": "223d5efb-c67d-40a3-a409-a3b09d66675a",
   "metadata": {},
   "outputs": [
    {
     "data": {
      "text/plain": [
       "81"
      ]
     },
     "execution_count": 54,
     "metadata": {},
     "output_type": "execute_result"
    }
   ],
   "source": [
    "3**4"
   ]
  },
  {
   "cell_type": "code",
   "execution_count": 55,
   "id": "c1964bd8-2dc2-4c83-85a0-1db423d54de7",
   "metadata": {},
   "outputs": [
    {
     "data": {
      "text/plain": [
       "4"
      ]
     },
     "execution_count": 55,
     "metadata": {},
     "output_type": "execute_result"
    }
   ],
   "source": [
    "2*2"
   ]
  },
  {
   "cell_type": "code",
   "execution_count": 58,
   "id": "e25fe893-c4a6-443e-9761-cd4ca62f0719",
   "metadata": {},
   "outputs": [
    {
     "data": {
      "text/plain": [
       "8"
      ]
     },
     "execution_count": 58,
     "metadata": {},
     "output_type": "execute_result"
    }
   ],
   "source": [
    "2**3"
   ]
  },
  {
   "cell_type": "code",
   "execution_count": null,
   "id": "97032ee7-865a-41a9-9cae-0ac01f0a1a91",
   "metadata": {},
   "outputs": [],
   "source": []
  }
 ],
 "metadata": {
  "kernelspec": {
   "display_name": "Python 3 (ipykernel)",
   "language": "python",
   "name": "python3"
  },
  "language_info": {
   "codemirror_mode": {
    "name": "ipython",
    "version": 3
   },
   "file_extension": ".py",
   "mimetype": "text/x-python",
   "name": "python",
   "nbconvert_exporter": "python",
   "pygments_lexer": "ipython3",
   "version": "3.13.5"
  }
 },
 "nbformat": 4,
 "nbformat_minor": 5
}
