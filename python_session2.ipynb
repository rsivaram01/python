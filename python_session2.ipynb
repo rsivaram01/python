{
 "cells": [
  {
   "cell_type": "code",
   "execution_count": 1,
   "id": "36a771a3-e456-4a59-b884-d8f01d5bbe75",
   "metadata": {},
   "outputs": [
    {
     "name": "stdout",
     "output_type": "stream",
     "text": [
      "welcome to Session 2\n"
     ]
    }
   ],
   "source": [
    "print(\"welcome to Session 2\")"
   ]
  },
  {
   "cell_type": "code",
   "execution_count": null,
   "id": "66cff2d2-5d01-4903-a404-d69f5b370c92",
   "metadata": {},
   "outputs": [],
   "source": [
    "List:-\n",
    "=====\n",
    "\n",
    "1. List is one of the datastrc in python\n",
    "2. list a collection of multiple items ( list, string, num, float, set, dict )\n",
    "\n",
    "array:-\n",
    "=====\n",
    "\n",
    "array is collection of same items  ( same type , int or float, str)\n",
    "\n",
    "properties:-\n",
    "===========\n",
    "\n",
    "list a mutable data type\n",
    "\n",
    "Ater declaring a list modification and alter is possible\n",
    "\n"
   ]
  },
  {
   "cell_type": "code",
   "execution_count": null,
   "id": "c4069ed8-490b-4803-85c1-de615997b6c7",
   "metadata": {},
   "outputs": [],
   "source": [
    "how to declare a list \n",
    "\n",
    "[]"
   ]
  },
  {
   "cell_type": "markdown",
   "id": "ef86ecba-0178-42fa-b94b-fa95511e6e98",
   "metadata": {},
   "source": []
  },
  {
   "cell_type": "code",
   "execution_count": 2,
   "id": "cd80f1ad-3376-49ae-aaed-3435704d6179",
   "metadata": {},
   "outputs": [],
   "source": [
    "my_stu = ['saran','murali','sravani','vishnu']"
   ]
  },
  {
   "cell_type": "code",
   "execution_count": 3,
   "id": "c31579d2-9240-45ed-96a3-a431d9c88001",
   "metadata": {},
   "outputs": [
    {
     "name": "stdout",
     "output_type": "stream",
     "text": [
      "['saran', 'murali', 'sravani', 'vishnu']\n"
     ]
    }
   ],
   "source": [
    "print(my_stu)"
   ]
  },
  {
   "cell_type": "code",
   "execution_count": 4,
   "id": "934f563b-03cc-4b48-a540-bb32de252243",
   "metadata": {},
   "outputs": [
    {
     "data": {
      "text/plain": [
       "['saran', 'murali', 'sravani', 'vishnu']"
      ]
     },
     "execution_count": 4,
     "metadata": {},
     "output_type": "execute_result"
    }
   ],
   "source": [
    "my_stu"
   ]
  },
  {
   "cell_type": "code",
   "execution_count": null,
   "id": "eea48ed7-88ba-4b46-a0e3-1efb5370408a",
   "metadata": {},
   "outputs": [],
   "source": [
    "# how to access per item in my list\n",
    "\n",
    "Indexing:-\n",
    "========\n",
    "\n",
    "['saran', 'murali', 'sravani', 'vishnu']\n",
    "\n",
    "0       ,   1     ,    2     ,   3\n",
    "\n",
    "-4      ,   -3    ,    -2    ,  -1\n",
    "\n",
    "# +ve index --> it always starts with 0  ---> moves from left to right \n",
    "# -ve index --> it alwasy starts with -1 ---> moves from right to left\n"
   ]
  },
  {
   "cell_type": "code",
   "execution_count": 5,
   "id": "2dd567ec-3d8c-45e4-a4c9-9082bc4eb4da",
   "metadata": {},
   "outputs": [
    {
     "data": {
      "text/plain": [
       "'murali'"
      ]
     },
     "execution_count": 5,
     "metadata": {},
     "output_type": "execute_result"
    }
   ],
   "source": [
    "my_stu[1]"
   ]
  },
  {
   "cell_type": "code",
   "execution_count": 6,
   "id": "3f7ae8dc-52c0-4415-9a6b-b3c2aef99608",
   "metadata": {},
   "outputs": [
    {
     "data": {
      "text/plain": [
       "'murali'"
      ]
     },
     "execution_count": 6,
     "metadata": {},
     "output_type": "execute_result"
    }
   ],
   "source": [
    "my_stu[-3]"
   ]
  },
  {
   "cell_type": "code",
   "execution_count": 7,
   "id": "c1d9630c-c6ec-4d14-8eb3-10ead668374b",
   "metadata": {},
   "outputs": [],
   "source": [
    "# req :- replace an item\n",
    "\n",
    "my_stu[1] = 'aa'"
   ]
  },
  {
   "cell_type": "code",
   "execution_count": 8,
   "id": "e4a60e5b-dec1-4a50-af59-a718eb971468",
   "metadata": {},
   "outputs": [
    {
     "data": {
      "text/plain": [
       "['saran', 'aa', 'sravani', 'vishnu']"
      ]
     },
     "execution_count": 8,
     "metadata": {},
     "output_type": "execute_result"
    }
   ],
   "source": [
    "my_stu"
   ]
  },
  {
   "cell_type": "code",
   "execution_count": null,
   "id": "123c1fbd-a5d0-49ce-857a-6f225b37c66e",
   "metadata": {},
   "outputs": [],
   "source": [
    "# req :- delet an item from my list\n",
    "\n",
    "pop()"
   ]
  },
  {
   "cell_type": "code",
   "execution_count": 9,
   "id": "77ff6c9e-3bbc-45cc-bcfd-6a026a939dbb",
   "metadata": {},
   "outputs": [
    {
     "data": {
      "text/plain": [
       "'vishnu'"
      ]
     },
     "execution_count": 9,
     "metadata": {},
     "output_type": "execute_result"
    }
   ],
   "source": [
    "my_stu.pop()"
   ]
  },
  {
   "cell_type": "code",
   "execution_count": 10,
   "id": "3e10a3f6-f4db-4a76-9084-37180e728189",
   "metadata": {},
   "outputs": [
    {
     "data": {
      "text/plain": [
       "['saran', 'aa', 'sravani']"
      ]
     },
     "execution_count": 10,
     "metadata": {},
     "output_type": "execute_result"
    }
   ],
   "source": [
    "my_stu"
   ]
  },
  {
   "cell_type": "code",
   "execution_count": 11,
   "id": "29c6ec07-a79e-40c4-97c6-ad85b08061e4",
   "metadata": {},
   "outputs": [
    {
     "data": {
      "text/plain": [
       "'sravani'"
      ]
     },
     "execution_count": 11,
     "metadata": {},
     "output_type": "execute_result"
    }
   ],
   "source": [
    "my_stu.pop()"
   ]
  },
  {
   "cell_type": "code",
   "execution_count": 12,
   "id": "a43ef8c0-1d6a-4dca-aae8-1270d1dca1a7",
   "metadata": {},
   "outputs": [],
   "source": [
    "lang = ['python','java','scala']"
   ]
  },
  {
   "cell_type": "code",
   "execution_count": 13,
   "id": "01287d8a-d4cd-4555-bf03-77b21fc405b3",
   "metadata": {},
   "outputs": [
    {
     "data": {
      "text/plain": [
       "['python', 'java', 'scala']"
      ]
     },
     "execution_count": 13,
     "metadata": {},
     "output_type": "execute_result"
    }
   ],
   "source": [
    "lang"
   ]
  },
  {
   "cell_type": "code",
   "execution_count": 15,
   "id": "ff91583a-62a8-41d1-bdca-ef1bd7d690e2",
   "metadata": {},
   "outputs": [
    {
     "data": {
      "text/plain": [
       "'java'"
      ]
     },
     "execution_count": 15,
     "metadata": {},
     "output_type": "execute_result"
    }
   ],
   "source": [
    "lang.pop(1)"
   ]
  },
  {
   "cell_type": "code",
   "execution_count": 16,
   "id": "745ea8e2-5dd3-4bab-ada3-68ea6d59fa8d",
   "metadata": {},
   "outputs": [
    {
     "data": {
      "text/plain": [
       "['python', 'scala']"
      ]
     },
     "execution_count": 16,
     "metadata": {},
     "output_type": "execute_result"
    }
   ],
   "source": [
    "lang"
   ]
  },
  {
   "cell_type": "code",
   "execution_count": null,
   "id": "6d6eee48-f0db-437f-a7a9-a215f193e3df",
   "metadata": {},
   "outputs": [],
   "source": [
    "# req :- I want to find index of per item in my list"
   ]
  },
  {
   "cell_type": "code",
   "execution_count": 17,
   "id": "47a032fd-74d4-4f19-861b-3e8f37648391",
   "metadata": {},
   "outputs": [
    {
     "data": {
      "text/plain": [
       "1"
      ]
     },
     "execution_count": 17,
     "metadata": {},
     "output_type": "execute_result"
    }
   ],
   "source": [
    "lang.index('scala')"
   ]
  },
  {
   "cell_type": "code",
   "execution_count": 18,
   "id": "6fd40212-2485-47c2-8dec-94f796143958",
   "metadata": {},
   "outputs": [
    {
     "data": {
      "text/plain": [
       "'scala'"
      ]
     },
     "execution_count": 18,
     "metadata": {},
     "output_type": "execute_result"
    }
   ],
   "source": [
    "lang.pop(lang.index('scala'))"
   ]
  },
  {
   "cell_type": "code",
   "execution_count": 19,
   "id": "f82d99ea-59e6-4b23-a714-5c4cbbf900ce",
   "metadata": {},
   "outputs": [
    {
     "data": {
      "text/plain": [
       "['python']"
      ]
     },
     "execution_count": 19,
     "metadata": {},
     "output_type": "execute_result"
    }
   ],
   "source": [
    "lang"
   ]
  },
  {
   "cell_type": "code",
   "execution_count": null,
   "id": "a535e8fd-6b9e-449f-9d0e-2e7ec1638e61",
   "metadata": {},
   "outputs": [],
   "source": []
  },
  {
   "cell_type": "code",
   "execution_count": null,
   "id": "8f588d47-ef43-4e4e-84b5-4ad0063a0d5b",
   "metadata": {},
   "outputs": [],
   "source": [
    "# my fav lang is python"
   ]
  },
  {
   "cell_type": "code",
   "execution_count": 20,
   "id": "bccff9e6-b924-467d-acba-a65a37028408",
   "metadata": {},
   "outputs": [
    {
     "name": "stdout",
     "output_type": "stream",
     "text": [
      "my fav lang is python\n"
     ]
    }
   ],
   "source": [
    "print(f\"my fav lang is {lang[0]}\")"
   ]
  },
  {
   "cell_type": "code",
   "execution_count": null,
   "id": "4d0aa629-3e02-41cd-b2aa-66aff236aba1",
   "metadata": {},
   "outputs": [],
   "source": [
    "# organising a list in alpha order or dict order\n",
    "\n",
    "# sort()    it sorts the list\n",
    "\n",
    "# sorted()  it will return sorted list"
   ]
  },
  {
   "cell_type": "code",
   "execution_count": 21,
   "id": "76c450f1-928c-4bce-b82e-2bea71066754",
   "metadata": {},
   "outputs": [],
   "source": [
    "num = [1,4,2,5,4,0]"
   ]
  },
  {
   "cell_type": "code",
   "execution_count": 22,
   "id": "7ccf8c16-1b4c-4496-9676-010c03a227ba",
   "metadata": {},
   "outputs": [
    {
     "name": "stdout",
     "output_type": "stream",
     "text": [
      "[1, 4, 2, 5, 4, 0]\n"
     ]
    }
   ],
   "source": [
    "print(num)"
   ]
  },
  {
   "cell_type": "code",
   "execution_count": 23,
   "id": "28504ee5-56eb-453c-9d9f-121c606b6188",
   "metadata": {},
   "outputs": [
    {
     "name": "stdout",
     "output_type": "stream",
     "text": [
      "[0, 1, 2, 4, 4, 5]\n"
     ]
    }
   ],
   "source": [
    "print(sorted(num))"
   ]
  },
  {
   "cell_type": "code",
   "execution_count": 24,
   "id": "5f5faa3c-d51d-448a-be07-9f175f1be921",
   "metadata": {},
   "outputs": [
    {
     "data": {
      "text/plain": [
       "[1, 4, 2, 5, 4, 0]"
      ]
     },
     "execution_count": 24,
     "metadata": {},
     "output_type": "execute_result"
    }
   ],
   "source": [
    "num"
   ]
  },
  {
   "cell_type": "code",
   "execution_count": 25,
   "id": "358d32e9-cd25-4dc9-b826-2976debc15f6",
   "metadata": {},
   "outputs": [],
   "source": [
    "# sort\n",
    "\n",
    "num.sort()"
   ]
  },
  {
   "cell_type": "code",
   "execution_count": 26,
   "id": "ba3182fe-5dfc-4705-8144-ef4dfb03b1da",
   "metadata": {},
   "outputs": [
    {
     "data": {
      "text/plain": [
       "[0, 1, 2, 4, 4, 5]"
      ]
     },
     "execution_count": 26,
     "metadata": {},
     "output_type": "execute_result"
    }
   ],
   "source": [
    "num"
   ]
  },
  {
   "cell_type": "code",
   "execution_count": null,
   "id": "ac718d93-9fd6-4ff0-bd2b-c0f4c1fd0359",
   "metadata": {},
   "outputs": [],
   "source": [
    "# how to reverse a list\n",
    "\n",
    "# reverse()"
   ]
  },
  {
   "cell_type": "code",
   "execution_count": 29,
   "id": "87ecab20-ea3e-468a-bfe9-44c5db0265ea",
   "metadata": {},
   "outputs": [
    {
     "name": "stdout",
     "output_type": "stream",
     "text": [
      "None\n"
     ]
    }
   ],
   "source": [
    "print(num.reverse())"
   ]
  },
  {
   "cell_type": "code",
   "execution_count": 34,
   "id": "51b04fd6-eaf2-4293-8927-fa2bb0c996d5",
   "metadata": {},
   "outputs": [
    {
     "data": {
      "text/plain": [
       "[5, 4, 4, 2, 1, 0]"
      ]
     },
     "execution_count": 34,
     "metadata": {},
     "output_type": "execute_result"
    }
   ],
   "source": [
    "num[::-1]"
   ]
  },
  {
   "cell_type": "code",
   "execution_count": null,
   "id": "c29b05a7-ca8d-41bf-a459-76712159faa1",
   "metadata": {},
   "outputs": [],
   "source": [
    "# find out len of your list\n",
    "\n",
    "len"
   ]
  },
  {
   "cell_type": "code",
   "execution_count": 35,
   "id": "4014b6a1-a321-449d-b599-a0010e5223a8",
   "metadata": {},
   "outputs": [
    {
     "data": {
      "text/plain": [
       "6"
      ]
     },
     "execution_count": 35,
     "metadata": {},
     "output_type": "execute_result"
    }
   ],
   "source": [
    "len(num)"
   ]
  },
  {
   "cell_type": "code",
   "execution_count": null,
   "id": "553cf2c5-ff9c-4426-8bc6-25e63c8d4571",
   "metadata": {},
   "outputs": [],
   "source": [
    "# another mothod to remove items from list\n",
    "\n",
    "remove()"
   ]
  },
  {
   "cell_type": "code",
   "execution_count": 36,
   "id": "77ee627a-0f4e-4c4b-aa6b-06a3bf8a9af7",
   "metadata": {},
   "outputs": [
    {
     "data": {
      "text/plain": [
       "[0, 1, 2, 4, 4, 5]"
      ]
     },
     "execution_count": 36,
     "metadata": {},
     "output_type": "execute_result"
    }
   ],
   "source": [
    "num"
   ]
  },
  {
   "cell_type": "code",
   "execution_count": 37,
   "id": "81dfd95f-4772-4f75-b38d-64349d4fdc20",
   "metadata": {},
   "outputs": [],
   "source": [
    "num.remove(5)"
   ]
  },
  {
   "cell_type": "code",
   "execution_count": 38,
   "id": "012c551c-797f-416d-aa7f-d521e03784f8",
   "metadata": {},
   "outputs": [
    {
     "data": {
      "text/plain": [
       "[0, 1, 2, 4, 4]"
      ]
     },
     "execution_count": 38,
     "metadata": {},
     "output_type": "execute_result"
    }
   ],
   "source": [
    "num"
   ]
  },
  {
   "cell_type": "code",
   "execution_count": 39,
   "id": "f55c3144-5790-4338-b5c0-c95a3d36d8be",
   "metadata": {},
   "outputs": [],
   "source": [
    "num.remove(4)"
   ]
  },
  {
   "cell_type": "code",
   "execution_count": 40,
   "id": "b665a72f-5776-4d97-8ef7-7e28e58da0ed",
   "metadata": {},
   "outputs": [
    {
     "data": {
      "text/plain": [
       "[0, 1, 2, 4]"
      ]
     },
     "execution_count": 40,
     "metadata": {},
     "output_type": "execute_result"
    }
   ],
   "source": [
    "num"
   ]
  },
  {
   "cell_type": "code",
   "execution_count": null,
   "id": "a4555005-0b14-4e6b-a436-a580009a6937",
   "metadata": {},
   "outputs": [],
   "source": [
    "# slicing concept in list :-\n",
    "==========================\n",
    "\n",
    "slice means cut\n",
    "\n",
    "list_name[intial_index_pos:end_index_pos:index_jump]\n",
    "\n",
    "\n",
    "# in python end value is exclusive \n"
   ]
  },
  {
   "cell_type": "code",
   "execution_count": 41,
   "id": "da6308a9-7f99-4479-81ad-ba8e97a50a43",
   "metadata": {},
   "outputs": [
    {
     "data": {
      "text/plain": [
       "[0, 1, 2, 4]"
      ]
     },
     "execution_count": 41,
     "metadata": {},
     "output_type": "execute_result"
    }
   ],
   "source": [
    "num"
   ]
  },
  {
   "cell_type": "code",
   "execution_count": 43,
   "id": "b15e20b2-9036-490b-b238-148de4a04580",
   "metadata": {},
   "outputs": [
    {
     "data": {
      "text/plain": [
       "[0, 1]"
      ]
     },
     "execution_count": 43,
     "metadata": {},
     "output_type": "execute_result"
    }
   ],
   "source": [
    "num[0:1+1]"
   ]
  },
  {
   "cell_type": "code",
   "execution_count": 44,
   "id": "6a69fc68-2f20-4427-b2be-221f831cd56b",
   "metadata": {},
   "outputs": [
    {
     "data": {
      "text/plain": [
       "[0, 1, 2]"
      ]
     },
     "execution_count": 44,
     "metadata": {},
     "output_type": "execute_result"
    }
   ],
   "source": [
    "num[0:2+1]"
   ]
  },
  {
   "cell_type": "code",
   "execution_count": 45,
   "id": "4ca19f47-18b8-4945-a60c-2ae156dbf0ec",
   "metadata": {},
   "outputs": [
    {
     "data": {
      "text/plain": [
       "[0, 1, 2]"
      ]
     },
     "execution_count": 45,
     "metadata": {},
     "output_type": "execute_result"
    }
   ],
   "source": [
    "num[0:3]"
   ]
  },
  {
   "cell_type": "code",
   "execution_count": 46,
   "id": "68857330-58c3-47a4-b318-3ff81580fc64",
   "metadata": {},
   "outputs": [
    {
     "data": {
      "text/plain": [
       "[0, 1, 2, 4]"
      ]
     },
     "execution_count": 46,
     "metadata": {},
     "output_type": "execute_result"
    }
   ],
   "source": [
    "num"
   ]
  },
  {
   "cell_type": "code",
   "execution_count": 47,
   "id": "abe39f72-6756-4b5e-a0fd-6471a103fbd0",
   "metadata": {},
   "outputs": [
    {
     "data": {
      "text/plain": [
       "[0, 1, 2, 4]"
      ]
     },
     "execution_count": 47,
     "metadata": {},
     "output_type": "execute_result"
    }
   ],
   "source": [
    "num[0:]"
   ]
  },
  {
   "cell_type": "code",
   "execution_count": 48,
   "id": "6c6e38b0-30a9-4e11-8cea-9c834f92fdb9",
   "metadata": {},
   "outputs": [
    {
     "data": {
      "text/plain": [
       "[0, 1, 2]"
      ]
     },
     "execution_count": 48,
     "metadata": {},
     "output_type": "execute_result"
    }
   ],
   "source": [
    "num[:3]"
   ]
  },
  {
   "cell_type": "code",
   "execution_count": 49,
   "id": "8f9b49ca-367d-48cb-b31f-84c824bf30ec",
   "metadata": {},
   "outputs": [
    {
     "data": {
      "text/plain": [
       "[0, 1, 2, 4]"
      ]
     },
     "execution_count": 49,
     "metadata": {},
     "output_type": "execute_result"
    }
   ],
   "source": [
    "num[:]"
   ]
  },
  {
   "cell_type": "code",
   "execution_count": null,
   "id": "c35af188-646e-4c30-9f6d-f4c77b56cde6",
   "metadata": {},
   "outputs": [],
   "source": [
    "# how to copy a list"
   ]
  },
  {
   "cell_type": "code",
   "execution_count": 50,
   "id": "cffcf0a2-464b-4f50-97e0-e91c6323f8da",
   "metadata": {},
   "outputs": [],
   "source": [
    "# deep copy\n",
    "\n",
    "num1 = num[:]"
   ]
  },
  {
   "cell_type": "code",
   "execution_count": 51,
   "id": "96d35184-95a9-488f-a2b9-a4e463739adb",
   "metadata": {},
   "outputs": [],
   "source": [
    "num2 = num"
   ]
  },
  {
   "cell_type": "code",
   "execution_count": 52,
   "id": "c58d21f7-7782-42f3-a737-d36cbfd2fcaf",
   "metadata": {},
   "outputs": [
    {
     "data": {
      "text/plain": [
       "[0, 1, 2, 4]"
      ]
     },
     "execution_count": 52,
     "metadata": {},
     "output_type": "execute_result"
    }
   ],
   "source": [
    "num1"
   ]
  },
  {
   "cell_type": "code",
   "execution_count": 53,
   "id": "82b4926c-8b44-49f5-a71d-c91caddba1b3",
   "metadata": {},
   "outputs": [
    {
     "data": {
      "text/plain": [
       "[0, 1, 2, 4]"
      ]
     },
     "execution_count": 53,
     "metadata": {},
     "output_type": "execute_result"
    }
   ],
   "source": [
    "num2"
   ]
  },
  {
   "cell_type": "code",
   "execution_count": null,
   "id": "b27282f8-d008-458f-b010-ab9982408c90",
   "metadata": {},
   "outputs": [],
   "source": [
    "# how to find memory location of object\n",
    "\n",
    "id()"
   ]
  },
  {
   "cell_type": "code",
   "execution_count": 54,
   "id": "8f6c3c5a-8159-4aef-b7a1-a090c66d64ea",
   "metadata": {},
   "outputs": [
    {
     "data": {
      "text/plain": [
       "2843988266368"
      ]
     },
     "execution_count": 54,
     "metadata": {},
     "output_type": "execute_result"
    }
   ],
   "source": [
    "id(num2)"
   ]
  },
  {
   "cell_type": "code",
   "execution_count": 55,
   "id": "a9ab48da-6526-4598-a541-e66bd8ade49c",
   "metadata": {},
   "outputs": [
    {
     "data": {
      "text/plain": [
       "2843988266368"
      ]
     },
     "execution_count": 55,
     "metadata": {},
     "output_type": "execute_result"
    }
   ],
   "source": [
    "id(num)"
   ]
  },
  {
   "cell_type": "code",
   "execution_count": 56,
   "id": "a7907968-b603-4e1d-95fd-85d2b122418e",
   "metadata": {},
   "outputs": [
    {
     "data": {
      "text/plain": [
       "2843993761792"
      ]
     },
     "execution_count": 56,
     "metadata": {},
     "output_type": "execute_result"
    }
   ],
   "source": [
    "id(num1)\n",
    "\n",
    "num1 = num[:]"
   ]
  },
  {
   "cell_type": "code",
   "execution_count": 57,
   "id": "25957186-0187-4151-b587-4c4938835c66",
   "metadata": {},
   "outputs": [
    {
     "data": {
      "text/plain": [
       "[0, 1, 2, 4]"
      ]
     },
     "execution_count": 57,
     "metadata": {},
     "output_type": "execute_result"
    }
   ],
   "source": [
    "num2"
   ]
  },
  {
   "cell_type": "code",
   "execution_count": 58,
   "id": "3c1669f1-6f2f-4df7-9a67-e4843682cd26",
   "metadata": {},
   "outputs": [
    {
     "data": {
      "text/plain": [
       "[0, 1, 2, 4]"
      ]
     },
     "execution_count": 58,
     "metadata": {},
     "output_type": "execute_result"
    }
   ],
   "source": [
    "num"
   ]
  },
  {
   "cell_type": "code",
   "execution_count": 59,
   "id": "d1223c6c-673d-4a9b-aa4a-822c4bc88347",
   "metadata": {},
   "outputs": [
    {
     "data": {
      "text/plain": [
       "4"
      ]
     },
     "execution_count": 59,
     "metadata": {},
     "output_type": "execute_result"
    }
   ],
   "source": [
    "num.pop()"
   ]
  },
  {
   "cell_type": "code",
   "execution_count": 60,
   "id": "1c713901-576a-4872-908a-540f99305d0c",
   "metadata": {},
   "outputs": [
    {
     "data": {
      "text/plain": [
       "[0, 1, 2]"
      ]
     },
     "execution_count": 60,
     "metadata": {},
     "output_type": "execute_result"
    }
   ],
   "source": [
    "num"
   ]
  },
  {
   "cell_type": "code",
   "execution_count": 61,
   "id": "dac013b4-415d-4acb-add2-3648feebdb0a",
   "metadata": {},
   "outputs": [
    {
     "data": {
      "text/plain": [
       "[0, 1, 2]"
      ]
     },
     "execution_count": 61,
     "metadata": {},
     "output_type": "execute_result"
    }
   ],
   "source": [
    "num2"
   ]
  },
  {
   "cell_type": "code",
   "execution_count": null,
   "id": "0f2da738-d560-4ffe-976c-ba1b43d302f4",
   "metadata": {},
   "outputs": [],
   "source": []
  },
  {
   "cell_type": "code",
   "execution_count": null,
   "id": "b90e50d7-0972-425e-bd07-ff1c07034b1e",
   "metadata": {},
   "outputs": [],
   "source": [
    "list - mutable\n",
    "\n",
    "str - immutable"
   ]
  },
  {
   "cell_type": "code",
   "execution_count": 62,
   "id": "200acdfb-28f8-48de-90fe-b5e4032ddf5d",
   "metadata": {},
   "outputs": [],
   "source": [
    "name = 'aa'"
   ]
  },
  {
   "cell_type": "code",
   "execution_count": 63,
   "id": "96ea8f4e-c3d9-4bc2-8a1c-e10d1240fa3a",
   "metadata": {},
   "outputs": [
    {
     "data": {
      "text/plain": [
       "2843954152480"
      ]
     },
     "execution_count": 63,
     "metadata": {},
     "output_type": "execute_result"
    }
   ],
   "source": [
    "id(name)"
   ]
  },
  {
   "cell_type": "code",
   "execution_count": 64,
   "id": "941efc80-256b-44a2-b1bf-cf112a5ea319",
   "metadata": {},
   "outputs": [],
   "source": [
    "name = 'bb'"
   ]
  },
  {
   "cell_type": "code",
   "execution_count": 65,
   "id": "54960330-d4ec-4440-ae4a-fba946d83e35",
   "metadata": {},
   "outputs": [
    {
     "data": {
      "text/plain": [
       "2843946341872"
      ]
     },
     "execution_count": 65,
     "metadata": {},
     "output_type": "execute_result"
    }
   ],
   "source": [
    "id(name)"
   ]
  },
  {
   "cell_type": "code",
   "execution_count": 66,
   "id": "d2f8f869-1c9f-45de-ab0b-bac2a5cc5cf5",
   "metadata": {},
   "outputs": [],
   "source": [
    "# mutable\n",
    "\n",
    "c = ['a',1,0.9]"
   ]
  },
  {
   "cell_type": "code",
   "execution_count": 67,
   "id": "45d8648d-cba1-407b-8d01-9e01454333e6",
   "metadata": {},
   "outputs": [
    {
     "data": {
      "text/plain": [
       "['a', 1, 0.9]"
      ]
     },
     "execution_count": 67,
     "metadata": {},
     "output_type": "execute_result"
    }
   ],
   "source": [
    "c"
   ]
  },
  {
   "cell_type": "code",
   "execution_count": 68,
   "id": "287c9922-8f10-4b72-856f-343984f5e5d6",
   "metadata": {},
   "outputs": [
    {
     "data": {
      "text/plain": [
       "2843988303232"
      ]
     },
     "execution_count": 68,
     "metadata": {},
     "output_type": "execute_result"
    }
   ],
   "source": [
    "id(c)"
   ]
  },
  {
   "cell_type": "code",
   "execution_count": null,
   "id": "4e78d845-5624-44cf-a54f-b1962a33d6c3",
   "metadata": {},
   "outputs": [],
   "source": [
    "# adding new item to my list\n",
    "\n",
    "append()"
   ]
  },
  {
   "cell_type": "code",
   "execution_count": 69,
   "id": "d7f3c453-7eae-4889-8941-59595061e7f5",
   "metadata": {},
   "outputs": [],
   "source": [
    "c.append(99)"
   ]
  },
  {
   "cell_type": "code",
   "execution_count": 70,
   "id": "bf2cf9a5-afb2-4c40-861f-b104ac442ab7",
   "metadata": {},
   "outputs": [
    {
     "data": {
      "text/plain": [
       "['a', 1, 0.9, 99]"
      ]
     },
     "execution_count": 70,
     "metadata": {},
     "output_type": "execute_result"
    }
   ],
   "source": [
    "c"
   ]
  },
  {
   "cell_type": "code",
   "execution_count": 71,
   "id": "5fa77c90-9e37-4319-881b-3ff6dfbb7f59",
   "metadata": {},
   "outputs": [
    {
     "data": {
      "text/plain": [
       "2843988303232"
      ]
     },
     "execution_count": 71,
     "metadata": {},
     "output_type": "execute_result"
    }
   ],
   "source": [
    "id(c)"
   ]
  },
  {
   "cell_type": "code",
   "execution_count": 72,
   "id": "025808a4-0f0b-4d67-a56b-00ecb8f08218",
   "metadata": {},
   "outputs": [
    {
     "data": {
      "text/plain": [
       "99"
      ]
     },
     "execution_count": 72,
     "metadata": {},
     "output_type": "execute_result"
    }
   ],
   "source": [
    "c.pop()"
   ]
  },
  {
   "cell_type": "code",
   "execution_count": 73,
   "id": "9957f941-526d-4d89-9337-0ccf3e286608",
   "metadata": {},
   "outputs": [
    {
     "data": {
      "text/plain": [
       "2843988303232"
      ]
     },
     "execution_count": 73,
     "metadata": {},
     "output_type": "execute_result"
    }
   ],
   "source": [
    "id(c)"
   ]
  },
  {
   "cell_type": "code",
   "execution_count": null,
   "id": "59384758-e6e2-47de-8cf0-aff5291da5d0",
   "metadata": {},
   "outputs": [],
   "source": [
    "# insert(index, item) \n",
    "\n",
    "# I want to insert an item in per index pos"
   ]
  },
  {
   "cell_type": "code",
   "execution_count": 74,
   "id": "68c8bdc8-bab6-444f-b10b-00b33e47c62b",
   "metadata": {},
   "outputs": [
    {
     "data": {
      "text/plain": [
       "['a', 1, 0.9]"
      ]
     },
     "execution_count": 74,
     "metadata": {},
     "output_type": "execute_result"
    }
   ],
   "source": [
    "c"
   ]
  },
  {
   "cell_type": "code",
   "execution_count": 75,
   "id": "8c30c41d-d80a-4168-a2c6-f52d41ee004c",
   "metadata": {},
   "outputs": [],
   "source": [
    "c.insert(0,'bb')"
   ]
  },
  {
   "cell_type": "code",
   "execution_count": 76,
   "id": "65e70ad9-cc30-4b67-a2f1-be7f8bec75a1",
   "metadata": {},
   "outputs": [
    {
     "data": {
      "text/plain": [
       "['bb', 'a', 1, 0.9]"
      ]
     },
     "execution_count": 76,
     "metadata": {},
     "output_type": "execute_result"
    }
   ],
   "source": [
    "c"
   ]
  },
  {
   "cell_type": "code",
   "execution_count": 77,
   "id": "08ce06cc-a54a-47f4-b0ac-30bba7dbd419",
   "metadata": {},
   "outputs": [],
   "source": [
    "# i want to count how may times an item appers in my list\n",
    "\n",
    "# count()"
   ]
  },
  {
   "cell_type": "code",
   "execution_count": 78,
   "id": "e15cde66-f44c-4bbe-b720-a105dec6aa37",
   "metadata": {},
   "outputs": [
    {
     "data": {
      "text/plain": [
       "1"
      ]
     },
     "execution_count": 78,
     "metadata": {},
     "output_type": "execute_result"
    }
   ],
   "source": [
    "c.count(0.9)"
   ]
  },
  {
   "cell_type": "code",
   "execution_count": 79,
   "id": "cdcd1f73-b1bb-451c-a073-040794f07c44",
   "metadata": {},
   "outputs": [],
   "source": [
    "c.append(1)"
   ]
  },
  {
   "cell_type": "code",
   "execution_count": 80,
   "id": "76fee0b0-e4dd-42ba-ae32-bfbb937964e5",
   "metadata": {},
   "outputs": [
    {
     "data": {
      "text/plain": [
       "['bb', 'a', 1, 0.9, 1]"
      ]
     },
     "execution_count": 80,
     "metadata": {},
     "output_type": "execute_result"
    }
   ],
   "source": [
    "c"
   ]
  },
  {
   "cell_type": "code",
   "execution_count": 81,
   "id": "9e36f6dc-3cf1-4ec7-a686-97b1e625adc0",
   "metadata": {},
   "outputs": [
    {
     "data": {
      "text/plain": [
       "2"
      ]
     },
     "execution_count": 81,
     "metadata": {},
     "output_type": "execute_result"
    }
   ],
   "source": [
    "c.count(1)"
   ]
  },
  {
   "cell_type": "code",
   "execution_count": null,
   "id": "8c97bbe0-cd10-443c-9f5d-d735d0d4576d",
   "metadata": {},
   "outputs": [],
   "source": [
    "# extend  :- it is used to merger or combine tow lists"
   ]
  },
  {
   "cell_type": "code",
   "execution_count": 82,
   "id": "2b659f6c-b7da-403d-a8e4-a14dbccc6c24",
   "metadata": {},
   "outputs": [
    {
     "data": {
      "text/plain": [
       "['bb', 'a', 1, 0.9, 1]"
      ]
     },
     "execution_count": 82,
     "metadata": {},
     "output_type": "execute_result"
    }
   ],
   "source": [
    "c"
   ]
  },
  {
   "cell_type": "code",
   "execution_count": 83,
   "id": "8c710fda-5813-4bda-98b7-184fc0cdd56f",
   "metadata": {},
   "outputs": [
    {
     "data": {
      "text/plain": [
       "[0, 1, 2]"
      ]
     },
     "execution_count": 83,
     "metadata": {},
     "output_type": "execute_result"
    }
   ],
   "source": [
    "num"
   ]
  },
  {
   "cell_type": "code",
   "execution_count": 84,
   "id": "5ea4685f-1be7-4c8d-883a-56ed7c69d2c2",
   "metadata": {},
   "outputs": [],
   "source": [
    "c.extend(num)"
   ]
  },
  {
   "cell_type": "code",
   "execution_count": 85,
   "id": "0d9d017f-f5da-413e-a066-2da3b1ac382a",
   "metadata": {},
   "outputs": [
    {
     "data": {
      "text/plain": [
       "['bb', 'a', 1, 0.9, 1, 0, 1, 2]"
      ]
     },
     "execution_count": 85,
     "metadata": {},
     "output_type": "execute_result"
    }
   ],
   "source": [
    "c"
   ]
  },
  {
   "cell_type": "code",
   "execution_count": 86,
   "id": "9613ea8c-d825-4933-af43-3d9f0991ab7f",
   "metadata": {},
   "outputs": [],
   "source": [
    "del c"
   ]
  },
  {
   "cell_type": "code",
   "execution_count": 88,
   "id": "3bb5ee26-e679-44c5-a2ca-91b6d4959cc3",
   "metadata": {},
   "outputs": [
    {
     "ename": "NameError",
     "evalue": "name 'c' is not defined",
     "output_type": "error",
     "traceback": [
      "\u001b[1;31m---------------------------------------------------------------------------\u001b[0m",
      "\u001b[1;31mNameError\u001b[0m                                 Traceback (most recent call last)",
      "Cell \u001b[1;32mIn[88], line 1\u001b[0m\n\u001b[1;32m----> 1\u001b[0m c\n",
      "\u001b[1;31mNameError\u001b[0m: name 'c' is not defined"
     ]
    }
   ],
   "source": [
    "c"
   ]
  },
  {
   "cell_type": "code",
   "execution_count": null,
   "id": "b9dd4ef1-69b3-41b9-a3cc-755979658ffa",
   "metadata": {},
   "outputs": [],
   "source": []
  }
 ],
 "metadata": {
  "kernelspec": {
   "display_name": "Python 3 (ipykernel)",
   "language": "python",
   "name": "python3"
  },
  "language_info": {
   "codemirror_mode": {
    "name": "ipython",
    "version": 3
   },
   "file_extension": ".py",
   "mimetype": "text/x-python",
   "name": "python",
   "nbconvert_exporter": "python",
   "pygments_lexer": "ipython3",
   "version": "3.13.5"
  }
 },
 "nbformat": 4,
 "nbformat_minor": 5
}
