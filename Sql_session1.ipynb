{
 "cells": [
  {
   "cell_type": "code",
   "execution_count": null,
   "id": "d4cb833b-2a4c-44f8-ab7b-473cff359070",
   "metadata": {},
   "outputs": [],
   "source": []
  },
  {
   "cell_type": "code",
   "execution_count": null,
   "id": "d3029a78-c20b-4e71-beeb-ebb0a21a8cef",
   "metadata": {},
   "outputs": [],
   "source": [
    "SQL:-\n",
    "====\n",
    "\n",
    "Why we need to learn sql\n",
    "\n",
    "Data ---> data bases or dwh -----> to interact with  data bases or dwh we should know sql\n",
    "\n",
    "python\n",
    "SQL --->\n",
    "spark\n",
    "could concepts \n",
    "\n"
   ]
  },
  {
   "cell_type": "code",
   "execution_count": null,
   "id": "7aa5507a-3d46-44f3-bcd4-0d6a523b661f",
   "metadata": {},
   "outputs": [],
   "source": [
    "# we should know how to create table\n",
    "\n",
    "we should be able to query some basic data ---> select * from tbname where sno = 4"
   ]
  },
  {
   "cell_type": "code",
   "execution_count": null,
   "id": "0491744b-6c8a-4a1d-b5b6-7e78c0d5f9e9",
   "metadata": {},
   "outputs": [],
   "source": [
    "focus:-\n",
    "======\n",
    "\n",
    "window func and aggr fun:-\n",
    "=========================\n",
    "\n",
    "rank, densc_rank(), row_number() ---> medium level\n",
    "lead, lag -------> high level qrys\n",
    "\n",
    "\n",
    "adv filter:-\n",
    "===========\n",
    "\n",
    "case when fil1>20 then assa end as fieldname\n",
    "\n",
    "\n",
    "pivot and unpivot:-\n",
    "================\n"
   ]
  },
  {
   "cell_type": "code",
   "execution_count": null,
   "id": "d4648e95-ae2a-4fde-9a34-a89c11eabe8d",
   "metadata": {},
   "outputs": [],
   "source": [
    "# joins :-\n",
    "=========\n",
    "\n",
    "left, right, inner, full outer"
   ]
  },
  {
   "cell_type": "code",
   "execution_count": null,
   "id": "7c419179-7cc0-4593-9040-bcf367dea6fa",
   "metadata": {},
   "outputs": [],
   "source": []
  },
  {
   "cell_type": "code",
   "execution_count": null,
   "id": "043e1418-e39c-4a25-9084-35ab920750a8",
   "metadata": {},
   "outputs": [],
   "source": [
    "SCD:-\n",
    "====\n",
    "\n",
    "slowly changing dimensions\n",
    "\n",
    "do you know scd?\n",
    "scd is slowly changing dimensions\n",
    "\n",
    "can you tell about scd types?\n",
    "\n",
    "scd0   -------> we will be insterting a row for evry new trans\n",
    "scd1   -------> we will ovwerwiting the old data\n",
    "scd2   -------> full history   --> \n",
    "scd3   -------->  we will be having limited history \n",
    "scd4   ---------> history table + current table\n"
   ]
  },
  {
   "cell_type": "code",
   "execution_count": null,
   "id": "58045e77-8d73-4f7f-8e0a-1a3d7882b891",
   "metadata": {},
   "outputs": [],
   "source": [
    "history table:-\n",
    "=============\n",
    "\n",
    "id name city    fromdata  todate       isactive\n",
    "1  aa    city1    1/1/2024  8/8/2024     0\n",
    "1 aa     city2     9/8/2024   null        1"
   ]
  },
  {
   "cell_type": "code",
   "execution_count": null,
   "id": "acd817fb-047d-4528-b98a-2c91d22b1fb1",
   "metadata": {},
   "outputs": [],
   "source": [
    "current table:-\n",
    "=============\n",
    "\n",
    "\n",
    "1  aa city2  9/8/2024   null "
   ]
  },
  {
   "cell_type": "code",
   "execution_count": null,
   "id": "66a29d60-2ff4-48d6-921c-f28e89a09a6c",
   "metadata": {},
   "outputs": [],
   "source": [
    "practice one sql question\n",
    "one python question daily \n",
    "\n",
    "\n",
    "to improve your problem solving skills"
   ]
  },
  {
   "cell_type": "code",
   "execution_count": null,
   "id": "88dcbb7c-9ce7-4f2d-b1a2-3ce8b5af5542",
   "metadata": {},
   "outputs": [],
   "source": []
  },
  {
   "cell_type": "code",
   "execution_count": null,
   "id": "d8e7233f-89a8-45ca-8dcb-0bc934cb573c",
   "metadata": {},
   "outputs": [],
   "source": [
    "in spark coding as well we use SQL:-\n",
    "=================================\n",
    "\n",
    "spark sql ----> "
   ]
  },
  {
   "cell_type": "code",
   "execution_count": null,
   "id": "cd406e63-2d02-4d62-82d9-537e97447b14",
   "metadata": {},
   "outputs": [],
   "source": []
  },
  {
   "cell_type": "code",
   "execution_count": null,
   "id": "1e2afb76-8400-4057-8043-0f30ce2a908c",
   "metadata": {},
   "outputs": [],
   "source": []
  }
 ],
 "metadata": {
  "kernelspec": {
   "display_name": "Python 3 (ipykernel)",
   "language": "python",
   "name": "python3"
  },
  "language_info": {
   "codemirror_mode": {
    "name": "ipython",
    "version": 3
   },
   "file_extension": ".py",
   "mimetype": "text/x-python",
   "name": "python",
   "nbconvert_exporter": "python",
   "pygments_lexer": "ipython3",
   "version": "3.13.5"
  }
 },
 "nbformat": 4,
 "nbformat_minor": 5
}
