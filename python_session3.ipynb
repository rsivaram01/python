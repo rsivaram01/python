{
 "cells": [
  {
   "cell_type": "code",
   "execution_count": 1,
   "id": "dd0d9747-6963-41de-9b75-6fb9190b4fe7",
   "metadata": {},
   "outputs": [
    {
     "name": "stdout",
     "output_type": "stream",
     "text": [
      "welcome to session 3\n"
     ]
    }
   ],
   "source": [
    "print(\"welcome to session 3\")"
   ]
  },
  {
   "cell_type": "code",
   "execution_count": 2,
   "id": "7c72af8d-0da0-4791-bbe3-311841db1910",
   "metadata": {},
   "outputs": [],
   "source": [
    "l1 = [1,2,3,5]"
   ]
  },
  {
   "cell_type": "code",
   "execution_count": 3,
   "id": "9957cac4-bcef-4058-b281-2b1c6d45d371",
   "metadata": {},
   "outputs": [
    {
     "data": {
      "text/plain": [
       "True"
      ]
     },
     "execution_count": 3,
     "metadata": {},
     "output_type": "execute_result"
    }
   ],
   "source": [
    "3 in l1"
   ]
  },
  {
   "cell_type": "code",
   "execution_count": 4,
   "id": "8fb8fa88-2cf8-46a7-9bea-8bdb484aa423",
   "metadata": {},
   "outputs": [
    {
     "data": {
      "text/plain": [
       "False"
      ]
     },
     "execution_count": 4,
     "metadata": {},
     "output_type": "execute_result"
    }
   ],
   "source": [
    "100 in l1"
   ]
  },
  {
   "cell_type": "code",
   "execution_count": 5,
   "id": "2eff56e6-7011-4dcb-bdd1-465ce281d61e",
   "metadata": {},
   "outputs": [
    {
     "data": {
      "text/plain": [
       "[1, 2, 3, 5]"
      ]
     },
     "execution_count": 5,
     "metadata": {},
     "output_type": "execute_result"
    }
   ],
   "source": [
    "l1"
   ]
  },
  {
   "cell_type": "code",
   "execution_count": 6,
   "id": "0fba3608-0168-440c-b725-58626f83046d",
   "metadata": {},
   "outputs": [
    {
     "data": {
      "text/plain": [
       "False"
      ]
     },
     "execution_count": 6,
     "metadata": {},
     "output_type": "execute_result"
    }
   ],
   "source": [
    "'sa' in l1"
   ]
  },
  {
   "cell_type": "code",
   "execution_count": 7,
   "id": "071d704a-a262-4ee2-aef4-806adb12506a",
   "metadata": {},
   "outputs": [
    {
     "data": {
      "text/plain": [
       "[1, 2, 3, 5]"
      ]
     },
     "execution_count": 7,
     "metadata": {},
     "output_type": "execute_result"
    }
   ],
   "source": [
    "l1"
   ]
  },
  {
   "cell_type": "code",
   "execution_count": 8,
   "id": "f51f137b-f77a-41d2-a421-4c94946599de",
   "metadata": {},
   "outputs": [],
   "source": [
    "l1.clear()"
   ]
  },
  {
   "cell_type": "code",
   "execution_count": 9,
   "id": "d9a5d298-bd1c-4334-9670-55261c98797a",
   "metadata": {},
   "outputs": [
    {
     "data": {
      "text/plain": [
       "[]"
      ]
     },
     "execution_count": 9,
     "metadata": {},
     "output_type": "execute_result"
    }
   ],
   "source": [
    "l1"
   ]
  },
  {
   "cell_type": "code",
   "execution_count": null,
   "id": "1a48bd02-117a-4ae2-8d88-d60286e536eb",
   "metadata": {},
   "outputs": [],
   "source": [
    "min\n",
    "max"
   ]
  },
  {
   "cell_type": "code",
   "execution_count": 12,
   "id": "3d548b26-86de-4127-a2c4-5c756e39cfd2",
   "metadata": {},
   "outputs": [
    {
     "ename": "ValueError",
     "evalue": "max() iterable argument is empty",
     "output_type": "error",
     "traceback": [
      "\u001b[1;31m---------------------------------------------------------------------------\u001b[0m",
      "\u001b[1;31mValueError\u001b[0m                                Traceback (most recent call last)",
      "Cell \u001b[1;32mIn[12], line 1\u001b[0m\n\u001b[1;32m----> 1\u001b[0m \u001b[38;5;28mmax\u001b[39m(l1)\n",
      "\u001b[1;31mValueError\u001b[0m: max() iterable argument is empty"
     ]
    }
   ],
   "source": [
    "max(l1)"
   ]
  },
  {
   "cell_type": "code",
   "execution_count": null,
   "id": "4c2892e3-d239-4973-ace7-849927d62963",
   "metadata": {},
   "outputs": [],
   "source": []
  },
  {
   "cell_type": "code",
   "execution_count": null,
   "id": "0d62c802-b0ca-4163-bd99-f031c428a54b",
   "metadata": {},
   "outputs": [],
   "source": [
    "# range()"
   ]
  },
  {
   "cell_type": "code",
   "execution_count": 17,
   "id": "ef53bdb8-fece-4c4f-bff6-b5e8346ff336",
   "metadata": {},
   "outputs": [],
   "source": [
    "num = list(range(1,100+1))"
   ]
  },
  {
   "cell_type": "code",
   "execution_count": 18,
   "id": "f9a40b39-5cae-41ff-9fb2-f95d2e8e7ce9",
   "metadata": {},
   "outputs": [
    {
     "name": "stdout",
     "output_type": "stream",
     "text": [
      "[1, 2, 3, 4, 5, 6, 7, 8, 9, 10, 11, 12, 13, 14, 15, 16, 17, 18, 19, 20, 21, 22, 23, 24, 25, 26, 27, 28, 29, 30, 31, 32, 33, 34, 35, 36, 37, 38, 39, 40, 41, 42, 43, 44, 45, 46, 47, 48, 49, 50, 51, 52, 53, 54, 55, 56, 57, 58, 59, 60, 61, 62, 63, 64, 65, 66, 67, 68, 69, 70, 71, 72, 73, 74, 75, 76, 77, 78, 79, 80, 81, 82, 83, 84, 85, 86, 87, 88, 89, 90, 91, 92, 93, 94, 95, 96, 97, 98, 99, 100]\n"
     ]
    }
   ],
   "source": [
    "print(num)"
   ]
  },
  {
   "cell_type": "code",
   "execution_count": null,
   "id": "1edd9f57-bef4-4026-969b-fccbe5b0bdfe",
   "metadata": {},
   "outputs": [],
   "source": [
    "# list_name[start:end_index:index_jump]"
   ]
  },
  {
   "cell_type": "code",
   "execution_count": 23,
   "id": "d8f56959-dbfb-4eb0-bc00-f310723a0fd5",
   "metadata": {},
   "outputs": [
    {
     "name": "stdout",
     "output_type": "stream",
     "text": [
      "[1, 3, 5, 7, 9, 11, 13, 15, 17, 19, 21, 23, 25, 27, 29, 31, 33, 35, 37, 39, 41, 43, 45, 47, 49, 51, 53, 55, 57, 59, 61, 63, 65, 67, 69, 71, 73, 75, 77, 79, 81, 83, 85, 87, 89, 91, 93, 95, 97, 99]\n"
     ]
    }
   ],
   "source": [
    "print(num[::3-1])"
   ]
  },
  {
   "cell_type": "code",
   "execution_count": null,
   "id": "445d3d05-1e05-47b4-b676-c41d52e6121b",
   "metadata": {},
   "outputs": [],
   "source": []
  },
  {
   "cell_type": "code",
   "execution_count": null,
   "id": "315d9bf5-f854-42f4-8a3a-8862dee9b2ae",
   "metadata": {},
   "outputs": [],
   "source": [
    "# loops :-\n",
    "=========\n",
    "\n",
    "for loop\n",
    "while loop\n"
   ]
  },
  {
   "cell_type": "code",
   "execution_count": 24,
   "id": "deefb36c-ae4b-470d-8fd3-d97d7ae34ae9",
   "metadata": {},
   "outputs": [],
   "source": [
    "alpha = ['a','b','g']"
   ]
  },
  {
   "cell_type": "code",
   "execution_count": 25,
   "id": "5d167326-5306-4664-956f-8a460baa9fdf",
   "metadata": {},
   "outputs": [
    {
     "name": "stdout",
     "output_type": "stream",
     "text": [
      "a\n",
      "b\n",
      "g\n"
     ]
    }
   ],
   "source": [
    "for i in alpha:\n",
    "    print(i)"
   ]
  },
  {
   "cell_type": "code",
   "execution_count": 27,
   "id": "b8472a07-41a4-4f9a-8e86-92b571070ac5",
   "metadata": {},
   "outputs": [
    {
     "name": "stdout",
     "output_type": "stream",
     "text": [
      "0\n",
      "1\n",
      "2\n",
      "3\n",
      "4\n",
      "5\n",
      "6\n",
      "7\n",
      "8\n",
      "9\n",
      "10\n"
     ]
    }
   ],
   "source": [
    "for i in range(0,10+1):\n",
    "    print(i)"
   ]
  },
  {
   "cell_type": "code",
   "execution_count": 28,
   "id": "fbd8a75f-1029-40d1-9e88-9e426739293a",
   "metadata": {},
   "outputs": [],
   "source": [
    "lang = 'python'"
   ]
  },
  {
   "cell_type": "code",
   "execution_count": 29,
   "id": "61334f9e-28c7-4dcc-bc0a-9e490781eedb",
   "metadata": {},
   "outputs": [
    {
     "name": "stdout",
     "output_type": "stream",
     "text": [
      "p\n",
      "y\n",
      "t\n",
      "h\n",
      "o\n",
      "n\n"
     ]
    }
   ],
   "source": [
    "for i in lang:\n",
    "    print(i)"
   ]
  },
  {
   "cell_type": "code",
   "execution_count": null,
   "id": "10c15483-e6e7-40d7-bb1c-84c425edb21f",
   "metadata": {},
   "outputs": [],
   "source": [
    "# mul table :-\n",
    "\n",
    "2*1 = 2\n",
    "2*2 = 4\n",
    "2*3 = 6\n",
    ".\n",
    ".\n",
    ".\n",
    "2*10 = 20"
   ]
  },
  {
   "cell_type": "code",
   "execution_count": null,
   "id": "e8325415-2944-4c2c-b68e-9db5a29925a6",
   "metadata": {},
   "outputs": [],
   "source": [
    "# while loops:-\n",
    "\n",
    "while condi:\n",
    "    stat1\n",
    "    stat2\n",
    "    incer logic \n",
    "    "
   ]
  },
  {
   "cell_type": "code",
   "execution_count": 31,
   "id": "5d78bbed-fed5-44e7-a157-289a1814a0d1",
   "metadata": {},
   "outputs": [
    {
     "name": "stdout",
     "output_type": "stream",
     "text": [
      "0\n",
      "1\n",
      "2\n",
      "3\n",
      "4\n",
      "5\n",
      "6\n",
      "7\n",
      "8\n",
      "9\n",
      "10\n",
      "print completed\n"
     ]
    }
   ],
   "source": [
    "# i want to 1 to 10 num using while loop\n",
    "\n",
    "i = 0\n",
    "while i<=10:\n",
    "    print(i)\n",
    "    i = i+1\n",
    "print(\"print completed\")\n"
   ]
  },
  {
   "cell_type": "code",
   "execution_count": null,
   "id": "9c86f485-487b-4ece-b282-b77e70d76a6d",
   "metadata": {},
   "outputs": [],
   "source": []
  },
  {
   "cell_type": "code",
   "execution_count": 32,
   "id": "a1d8bc51-cd31-4900-b24a-aaa9787e6747",
   "metadata": {},
   "outputs": [],
   "source": [
    "# Accepting user input\n",
    "\n",
    "# input"
   ]
  },
  {
   "cell_type": "code",
   "execution_count": 33,
   "id": "e6215f01-a624-40b2-8bb7-d9453f277c6c",
   "metadata": {},
   "outputs": [
    {
     "name": "stdin",
     "output_type": "stream",
     "text": [
      " ashasbash\n"
     ]
    }
   ],
   "source": [
    "name = input()"
   ]
  },
  {
   "cell_type": "code",
   "execution_count": 34,
   "id": "6b5cd88b-c0e3-4242-bd6d-322fc11a7537",
   "metadata": {},
   "outputs": [
    {
     "data": {
      "text/plain": [
       "'ashasbash'"
      ]
     },
     "execution_count": 34,
     "metadata": {},
     "output_type": "execute_result"
    }
   ],
   "source": [
    "name"
   ]
  },
  {
   "cell_type": "code",
   "execution_count": 36,
   "id": "e30d3c54-442b-46e7-8450-31fef79d1603",
   "metadata": {},
   "outputs": [
    {
     "name": "stdin",
     "output_type": "stream",
     "text": [
      "please enter your name saran\n"
     ]
    }
   ],
   "source": [
    "name1 = input(\"please enter your name\")"
   ]
  },
  {
   "cell_type": "code",
   "execution_count": 37,
   "id": "04442301-d7a3-47b2-bbac-8e0583b9b20b",
   "metadata": {},
   "outputs": [
    {
     "data": {
      "text/plain": [
       "'saran'"
      ]
     },
     "execution_count": 37,
     "metadata": {},
     "output_type": "execute_result"
    }
   ],
   "source": [
    "name1"
   ]
  },
  {
   "cell_type": "code",
   "execution_count": 38,
   "id": "16dce4d5-9ffc-482c-8856-79bc5096892b",
   "metadata": {},
   "outputs": [
    {
     "name": "stdin",
     "output_type": "stream",
     "text": [
      " 10\n"
     ]
    }
   ],
   "source": [
    "score = input()"
   ]
  },
  {
   "cell_type": "code",
   "execution_count": 39,
   "id": "de453e47-9d44-4cdc-a125-4d6b3d67f28f",
   "metadata": {},
   "outputs": [
    {
     "data": {
      "text/plain": [
       "'10'"
      ]
     },
     "execution_count": 39,
     "metadata": {},
     "output_type": "execute_result"
    }
   ],
   "source": [
    "score"
   ]
  },
  {
   "cell_type": "code",
   "execution_count": 41,
   "id": "1333289d-00b1-46c7-bda4-d10de207ea5a",
   "metadata": {},
   "outputs": [
    {
     "data": {
      "text/plain": [
       "str"
      ]
     },
     "execution_count": 41,
     "metadata": {},
     "output_type": "execute_result"
    }
   ],
   "source": [
    "type(score)"
   ]
  },
  {
   "cell_type": "code",
   "execution_count": null,
   "id": "e1f63f74-8505-424d-a18a-d46887a626d1",
   "metadata": {},
   "outputs": [],
   "source": [
    "# conditional stats\n",
    "\n",
    "if cond:\n",
    "    stat\n",
    "else:\n",
    "    stats"
   ]
  },
  {
   "cell_type": "code",
   "execution_count": 42,
   "id": "bce6d4bd-36e9-40eb-8872-0cb79e1b9d98",
   "metadata": {},
   "outputs": [
    {
     "name": "stdin",
     "output_type": "stream",
     "text": [
      " 36\n"
     ]
    },
    {
     "ename": "TypeError",
     "evalue": "'>' not supported between instances of 'str' and 'int'",
     "output_type": "error",
     "traceback": [
      "\u001b[1;31m---------------------------------------------------------------------------\u001b[0m",
      "\u001b[1;31mTypeError\u001b[0m                                 Traceback (most recent call last)",
      "Cell \u001b[1;32mIn[42], line 3\u001b[0m\n\u001b[0;32m      1\u001b[0m score1 \u001b[38;5;241m=\u001b[39m \u001b[38;5;28minput\u001b[39m()\n\u001b[1;32m----> 3\u001b[0m \u001b[38;5;28;01mif\u001b[39;00m score1\u001b[38;5;241m>\u001b[39m\u001b[38;5;241m35\u001b[39m:\n\u001b[0;32m      4\u001b[0m     \u001b[38;5;28mprint\u001b[39m(\u001b[38;5;124m\"\u001b[39m\u001b[38;5;124mPass\u001b[39m\u001b[38;5;124m\"\u001b[39m)\n\u001b[0;32m      5\u001b[0m \u001b[38;5;28;01melse\u001b[39;00m:\n",
      "\u001b[1;31mTypeError\u001b[0m: '>' not supported between instances of 'str' and 'int'"
     ]
    }
   ],
   "source": [
    "score1 = input()\n",
    "\n",
    "if score1>35:\n",
    "    print(\"Pass\")\n",
    "else:\n",
    "    print(\"Fail\")"
   ]
  },
  {
   "cell_type": "code",
   "execution_count": 44,
   "id": "fda76fad-1200-4d39-826d-faaa3cf459fa",
   "metadata": {},
   "outputs": [
    {
     "name": "stdin",
     "output_type": "stream",
     "text": [
      " 16\n"
     ]
    },
    {
     "name": "stdout",
     "output_type": "stream",
     "text": [
      "Fail\n"
     ]
    }
   ],
   "source": [
    "# type casting concept :-\n",
    "\n",
    "\n",
    "score1 = input()\n",
    "\n",
    "score1 = int(score1)\n",
    "\n",
    "if score1>35:\n",
    "    print(\"Pass\")\n",
    "else:\n",
    "    print(\"Fail\")"
   ]
  },
  {
   "cell_type": "code",
   "execution_count": 45,
   "id": "e4743d4d-b6b3-4c86-88d9-5489a8649d38",
   "metadata": {},
   "outputs": [
    {
     "name": "stdout",
     "output_type": "stream",
     "text": [
      "aa\n",
      "bb\n",
      "TATA\n"
     ]
    }
   ],
   "source": [
    "cars = ['aa','bb','tata']\n",
    "\n",
    "for i in cars:\n",
    "    if i == 'tata':\n",
    "        print(i.upper())\n",
    "    else:\n",
    "        print(i)\n",
    "\n"
   ]
  },
  {
   "cell_type": "code",
   "execution_count": 47,
   "id": "1bbe0399-febe-411a-a321-e11e2b586bec",
   "metadata": {},
   "outputs": [
    {
     "name": "stdout",
     "output_type": "stream",
     "text": [
      "both are equal\n"
     ]
    }
   ],
   "source": [
    "# nested if -else\n",
    "\n",
    "a, b = 10,10\n",
    "\n",
    "if a!=b:\n",
    "    if a>b:\n",
    "        print('a is greater')\n",
    "    else:\n",
    "        print(\"B is greater\")\n",
    "else:\n",
    "    print(\"both are equal\")\n"
   ]
  },
  {
   "cell_type": "code",
   "execution_count": null,
   "id": "13a45410-6a92-45de-adbb-3c8b243b151e",
   "metadata": {},
   "outputs": [],
   "source": []
  },
  {
   "cell_type": "code",
   "execution_count": null,
   "id": "e01be05d-1d3b-45ff-bdad-cbe627b5e00f",
   "metadata": {},
   "outputs": [],
   "source": [
    "# Intro to tuple:-\n",
    "\n",
    "like list tuple is also is used to store multiple items in a single var\n",
    "\n",
    "tuple can be defiend by ()\n",
    "\n",
    "properties:-\n",
    "============\n",
    "\n",
    "Tuple is immutable datatype\n",
    "\n",
    "no chnage/alter/modification is possible\n",
    "\n"
   ]
  },
  {
   "cell_type": "code",
   "execution_count": 48,
   "id": "440efd62-d855-4203-86e8-d171066a10de",
   "metadata": {},
   "outputs": [],
   "source": [
    "dimen = (200,300)"
   ]
  },
  {
   "cell_type": "code",
   "execution_count": 49,
   "id": "937bc75b-3d31-4edf-8996-f1ed35358ff8",
   "metadata": {},
   "outputs": [
    {
     "data": {
      "text/plain": [
       "300"
      ]
     },
     "execution_count": 49,
     "metadata": {},
     "output_type": "execute_result"
    }
   ],
   "source": [
    "dimen[1]"
   ]
  },
  {
   "cell_type": "code",
   "execution_count": 50,
   "id": "ac7e6d8a-c23c-4403-a179-109f83f3a8f1",
   "metadata": {},
   "outputs": [],
   "source": [
    "s = tuple(range(0,100))"
   ]
  },
  {
   "cell_type": "code",
   "execution_count": 51,
   "id": "2177994b-50fb-477e-a5fe-0f4d0abc214f",
   "metadata": {},
   "outputs": [
    {
     "name": "stdout",
     "output_type": "stream",
     "text": [
      "(0, 1, 2, 3, 4, 5, 6, 7, 8, 9, 10, 11, 12, 13, 14, 15, 16, 17, 18, 19, 20, 21, 22, 23, 24, 25, 26, 27, 28, 29, 30, 31, 32, 33, 34, 35, 36, 37, 38, 39, 40, 41, 42, 43, 44, 45, 46, 47, 48, 49, 50, 51, 52, 53, 54, 55, 56, 57, 58, 59, 60, 61, 62, 63, 64, 65, 66, 67, 68, 69, 70, 71, 72, 73, 74, 75, 76, 77, 78, 79, 80, 81, 82, 83, 84, 85, 86, 87, 88, 89, 90, 91, 92, 93, 94, 95, 96, 97, 98, 99)\n"
     ]
    }
   ],
   "source": [
    "print(s)"
   ]
  },
  {
   "cell_type": "code",
   "execution_count": 53,
   "id": "452959ef-8c0f-4026-ac1c-fcf2a7c894f2",
   "metadata": {},
   "outputs": [
    {
     "name": "stdout",
     "output_type": "stream",
     "text": [
      "(0, 2, 4, 6, 8, 10, 12, 14, 16, 18, 20, 22, 24, 26, 28, 30, 32, 34, 36, 38, 40, 42, 44, 46, 48, 50, 52, 54, 56, 58, 60, 62, 64, 66, 68, 70, 72, 74, 76, 78, 80, 82, 84, 86, 88, 90, 92, 94, 96, 98)\n"
     ]
    }
   ],
   "source": [
    "print(s[::2])"
   ]
  },
  {
   "cell_type": "code",
   "execution_count": 54,
   "id": "af9a7045-041a-476b-9277-46c932f0e31f",
   "metadata": {},
   "outputs": [
    {
     "ename": "TypeError",
     "evalue": "'tuple' object does not support item assignment",
     "output_type": "error",
     "traceback": [
      "\u001b[1;31m---------------------------------------------------------------------------\u001b[0m",
      "\u001b[1;31mTypeError\u001b[0m                                 Traceback (most recent call last)",
      "Cell \u001b[1;32mIn[54], line 1\u001b[0m\n\u001b[1;32m----> 1\u001b[0m s[\u001b[38;5;241m0\u001b[39m] \u001b[38;5;241m=\u001b[39m \u001b[38;5;241m100\u001b[39m\n",
      "\u001b[1;31mTypeError\u001b[0m: 'tuple' object does not support item assignment"
     ]
    }
   ],
   "source": [
    "s[0] = 100"
   ]
  },
  {
   "cell_type": "code",
   "execution_count": null,
   "id": "f656cd74-f4a6-4720-b847-ed696efe5b97",
   "metadata": {},
   "outputs": [],
   "source": [
    "# except this everythign is same as list"
   ]
  },
  {
   "cell_type": "code",
   "execution_count": null,
   "id": "24e80349-2c78-4571-92fa-5f6e8c5fab68",
   "metadata": {},
   "outputs": [],
   "source": []
  },
  {
   "cell_type": "code",
   "execution_count": null,
   "id": "04f21035-d714-4634-b8b3-15495c514590",
   "metadata": {},
   "outputs": [],
   "source": [
    "# Dict:-\n",
    "======\n",
    "\n",
    "Dict can be define with {}\n",
    "\n",
    "prop:-\n",
    "=====\n",
    "dict is mutable data type\n",
    "items which are stored in dict are key - value pairs\n",
    "\n",
    "\n"
   ]
  },
  {
   "cell_type": "code",
   "execution_count": 55,
   "id": "ae965ff4-2cbb-4549-b46e-1df0907daf5c",
   "metadata": {},
   "outputs": [],
   "source": [
    "stu_info = { 'stu1_name' : 'aaa',\n",
    "            'stu2_name' :'bb'}"
   ]
  },
  {
   "cell_type": "code",
   "execution_count": 56,
   "id": "ffcc3ace-02a6-4b3b-96ea-15b5db983997",
   "metadata": {},
   "outputs": [
    {
     "data": {
      "text/plain": [
       "{'stu1_name': 'aaa', 'stu2_name': 'bb'}"
      ]
     },
     "execution_count": 56,
     "metadata": {},
     "output_type": "execute_result"
    }
   ],
   "source": [
    "stu_info"
   ]
  },
  {
   "cell_type": "code",
   "execution_count": 57,
   "id": "8571be02-5035-4969-85f4-185d222ed6c1",
   "metadata": {},
   "outputs": [
    {
     "data": {
      "text/plain": [
       "dict"
      ]
     },
     "execution_count": 57,
     "metadata": {},
     "output_type": "execute_result"
    }
   ],
   "source": [
    "type(stu_info)"
   ]
  },
  {
   "cell_type": "code",
   "execution_count": null,
   "id": "c433c5df-4916-4201-bfc0-163643af555d",
   "metadata": {},
   "outputs": [],
   "source": [
    "# how to access data in dict\n",
    "\n",
    "by using keys"
   ]
  },
  {
   "cell_type": "code",
   "execution_count": 58,
   "id": "63f46b81-99ae-42d1-aff8-2c37bdf32622",
   "metadata": {},
   "outputs": [
    {
     "data": {
      "text/plain": [
       "'aaa'"
      ]
     },
     "execution_count": 58,
     "metadata": {},
     "output_type": "execute_result"
    }
   ],
   "source": [
    "stu_info['stu1_name']"
   ]
  },
  {
   "cell_type": "code",
   "execution_count": 59,
   "id": "86719037-8f61-4a98-8d93-c2463abcf765",
   "metadata": {},
   "outputs": [],
   "source": [
    "stu_info['stu3_name'] = 'zz'"
   ]
  },
  {
   "cell_type": "code",
   "execution_count": 60,
   "id": "e78ae209-9880-45dc-8a04-f1f361d262f1",
   "metadata": {},
   "outputs": [
    {
     "data": {
      "text/plain": [
       "{'stu1_name': 'aaa', 'stu2_name': 'bb', 'stu3_name': 'zz'}"
      ]
     },
     "execution_count": 60,
     "metadata": {},
     "output_type": "execute_result"
    }
   ],
   "source": [
    "stu_info"
   ]
  },
  {
   "cell_type": "code",
   "execution_count": null,
   "id": "d4ce05a9-b756-466e-88b6-61fe02823e44",
   "metadata": {},
   "outputs": [],
   "source": []
  }
 ],
 "metadata": {
  "kernelspec": {
   "display_name": "Python 3 (ipykernel)",
   "language": "python",
   "name": "python3"
  },
  "language_info": {
   "codemirror_mode": {
    "name": "ipython",
    "version": 3
   },
   "file_extension": ".py",
   "mimetype": "text/x-python",
   "name": "python",
   "nbconvert_exporter": "python",
   "pygments_lexer": "ipython3",
   "version": "3.13.5"
  }
 },
 "nbformat": 4,
 "nbformat_minor": 5
}
