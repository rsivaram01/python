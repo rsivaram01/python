{
 "cells": [
  {
   "cell_type": "code",
   "execution_count": 1,
   "id": "f76b0f81-949f-4c80-a7c3-6cb3bbd74c1a",
   "metadata": {},
   "outputs": [
    {
     "name": "stdout",
     "output_type": "stream",
     "text": [
      "welcome\n"
     ]
    }
   ],
   "source": [
    "print(\"welcome\")"
   ]
  },
  {
   "cell_type": "code",
   "execution_count": null,
   "id": "83cd9d78-979a-44f8-83da-e24129b668b1",
   "metadata": {},
   "outputs": [],
   "source": [
    "SQoop --->\n",
    "\n",
    "last class:-\n",
    "\n",
    "import --> useing text formagt with \\t (tab delimiter)\n",
    "\n"
   ]
  },
  {
   "cell_type": "code",
   "execution_count": null,
   "id": "64c36648-28c8-4150-a8e5-fc06019b119e",
   "metadata": {},
   "outputs": [],
   "source": [
    "# compress file format  .gz\n",
    "\n",
    "\n",
    "sqoop import -connect jdbc:mysql://hostname/dbname -username user1 -password passcode -table tb1 -columns name,salary -compress -target-dir /hdfs/path/\n",
    "\n",
    "# sequencefile\n",
    "\n",
    "sqoop import -connect jdbc:mysql://hostname/dbname -username user1 -password passcode -table tb1 -columns name,salary --as-sequencefile -target-dir /hdfs/path\n",
    "\n",
    "# avro file \n",
    "\n",
    "sqoop import -connect jdbc:mysql://hostname/dbname -username user1 -password passcode -table tb1 -columns name,salary --as-avrodatafile -target-dir /hdfs/path\n",
    "\n",
    "\n",
    "\n"
   ]
  },
  {
   "cell_type": "code",
   "execution_count": null,
   "id": "64516deb-452f-445e-a950-135a7e8b4aff",
   "metadata": {},
   "outputs": [],
   "source": [
    "# Incremental data load:-\n",
    "========================\n",
    "\n",
    "sqoop job -create emp_incrimetal_laod -import -connect jdbc:mysql://hostname/dbname -username user1 -password passcode -target-dir /hdfs/path/ -incremental append --last-value 200 -check-column id \n",
    "\n",
    "\n",
    "incremental lastmodified\n",
    "========================\n",
    "\n",
    "sqoop import \\\n",
    "  --connect jdbc:mysql://localhost/employees \\\n",
    "  --username root \\\n",
    "  --password root \\\n",
    "  --table emp \\\n",
    "  --target-dir /sqoop/incremental/lastmodified \\\n",
    "  --incremental lastmodified \\\n",
    "  --check-column last_updated \\\n",
    "  --last-value \"2023-10-01 00:00:00\" \\\n",
    "  --m 1"
   ]
  },
  {
   "cell_type": "code",
   "execution_count": null,
   "id": "8d016215-6a10-45b7-8fe1-a90c47c0fae7",
   "metadata": {},
   "outputs": [],
   "source": []
  },
  {
   "cell_type": "code",
   "execution_count": null,
   "id": "0129f49f-70a0-4076-97da-3243ee67d866",
   "metadata": {},
   "outputs": [],
   "source": []
  },
  {
   "cell_type": "code",
   "execution_count": null,
   "id": "79c005bc-aed8-4254-9fb4-950d3f9d0702",
   "metadata": {},
   "outputs": [],
   "source": []
  },
  {
   "cell_type": "code",
   "execution_count": null,
   "id": "3e494b8a-f3bc-40a1-9c57-539e7045a89e",
   "metadata": {},
   "outputs": [],
   "source": [
    "2nd installemt fee:-\n",
    "--------------------\n",
    "\n",
    "10k"
   ]
  }
 ],
 "metadata": {
  "kernelspec": {
   "display_name": "Python 3 (ipykernel)",
   "language": "python",
   "name": "python3"
  },
  "language_info": {
   "codemirror_mode": {
    "name": "ipython",
    "version": 3
   },
   "file_extension": ".py",
   "mimetype": "text/x-python",
   "name": "python",
   "nbconvert_exporter": "python",
   "pygments_lexer": "ipython3",
   "version": "3.13.5"
  }
 },
 "nbformat": 4,
 "nbformat_minor": 5
}
