{
 "cells": [
  {
   "cell_type": "code",
   "execution_count": null,
   "id": "b26b4a84-2a82-4ba2-9eac-51f27a02132d",
   "metadata": {},
   "outputs": [],
   "source": [
    "Hive:-\n",
    "====\n",
    "\n",
    "emp.orc ----> stored somehwere on your hdfs \n",
    "\n",
    "map reduce  --->  programs ----> java \n",
    "\n",
    "SQL ----> HIVE ---> hiveql   ----> by having table ---> \n",
    "\n",
    "schema ---> tables ---> query  -----> map reduce tasks ----> it show the result \n",
    "\n",
    "\n"
   ]
  },
  {
   "cell_type": "code",
   "execution_count": null,
   "id": "5daf67b6-7b9f-4795-8f07-e2c4cbb96ca1",
   "metadata": {},
   "outputs": [],
   "source": [
    "database: cdf\n",
    "table : emp\n",
    "\n",
    "select * from cdf.emp;\n",
    "\n",
    "\n",
    "\n",
    "Derby  database  \n",
    "================"
   ]
  },
  {
   "cell_type": "code",
   "execution_count": null,
   "id": "0474b783-7f60-40bb-b016-21922161078f",
   "metadata": {},
   "outputs": [],
   "source": [
    "Hive:-\n",
    "-----\n",
    "\n",
    "tables\n",
    "\n",
    "two types:-\n",
    "-----------\n",
    "\n",
    "1. Internal tables or managed tables\n",
    "2. External Tables\n",
    "\n",
    "create table table_name (sno int, name string)\n",
    "\n",
    "create external table table_name (sno int, name string) \n",
    "location /c/as/dds/\n"
   ]
  },
  {
   "cell_type": "code",
   "execution_count": null,
   "id": "6fde3ba5-e0a0-4960-997e-15f5ce7a230c",
   "metadata": {},
   "outputs": [],
   "source": [
    "1. schema will go away alomg with the data \n",
    "\n",
    "2. only schema will get droped, data reamins in the same location\n",
    "\n",
    "whenever you create table with the same schema you will be able to query the data "
   ]
  },
  {
   "cell_type": "code",
   "execution_count": null,
   "id": "20397a12-52b1-4092-9896-b78944d73245",
   "metadata": {},
   "outputs": [],
   "source": []
  },
  {
   "cell_type": "code",
   "execution_count": null,
   "id": "025b82e2-1724-4b15-85a0-e2d1adaf2a58",
   "metadata": {},
   "outputs": [],
   "source": [
    "schema on read :-\n",
    "----------------\n",
    "\n",
    "external table :- A, B, C\n",
    "                    int, int, int\n",
    "\n",
    "\n",
    "daily you spark job is getting ttriggered and you wirintg into the table \n",
    "\n",
    "today ---> A, B, C    ============> today jobs write\n",
    "            string, int, int\n",
    "\n",
    "when you are writing into the table, you won't get any error becasue of schema mismatch\n",
    "\n",
    "now you are quering the data ----> now it will give error \n",
    "\n"
   ]
  },
  {
   "cell_type": "code",
   "execution_count": null,
   "id": "6b7e51e8-47e5-4cab-a3ac-d74f37b0abb9",
   "metadata": {},
   "outputs": [],
   "source": [
    "Schema on write:-\n",
    "================\n",
    "when you have delta table \n",
    "\n",
    "table1 \n",
    "A   B    C\n",
    "int int  int\n",
    "\n",
    "accidnetaly written in the below shcmea\n",
    "\n",
    "A   B   C\n",
    "string int int\n",
    "\n",
    "whener you write the data that time itself it gives the error \n",
    "\n",
    "\n"
   ]
  },
  {
   "cell_type": "code",
   "execution_count": null,
   "id": "7bab17a0-fcb1-4dc8-9416-ea42c4c3b194",
   "metadata": {},
   "outputs": [],
   "source": []
  }
 ],
 "metadata": {
  "kernelspec": {
   "display_name": "Python 3 (ipykernel)",
   "language": "python",
   "name": "python3"
  },
  "language_info": {
   "codemirror_mode": {
    "name": "ipython",
    "version": 3
   },
   "file_extension": ".py",
   "mimetype": "text/x-python",
   "name": "python",
   "nbconvert_exporter": "python",
   "pygments_lexer": "ipython3",
   "version": "3.13.5"
  }
 },
 "nbformat": 4,
 "nbformat_minor": 5
}
