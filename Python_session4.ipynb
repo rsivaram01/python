{
 "cells": [
  {
   "cell_type": "code",
   "execution_count": 1,
   "id": "70f58f86-7247-40a3-b7e8-994b882a13e2",
   "metadata": {},
   "outputs": [
    {
     "name": "stdout",
     "output_type": "stream",
     "text": [
      "welcome to session 4\n"
     ]
    }
   ],
   "source": [
    "print(\"welcome to session 4\")"
   ]
  },
  {
   "cell_type": "code",
   "execution_count": 3,
   "id": "0a1c01bc-f7cf-4103-95e2-a5e2cb49f240",
   "metadata": {},
   "outputs": [],
   "source": [
    "dict1 = {'lang1':'py',\n",
    "         'lang2' : 'java'}"
   ]
  },
  {
   "cell_type": "code",
   "execution_count": 4,
   "id": "3368caba-67a5-4e50-8721-6df037e655c3",
   "metadata": {},
   "outputs": [
    {
     "data": {
      "text/plain": [
       "{'lang1': 'py', 'lang2': 'java'}"
      ]
     },
     "execution_count": 4,
     "metadata": {},
     "output_type": "execute_result"
    }
   ],
   "source": [
    "dict1"
   ]
  },
  {
   "cell_type": "code",
   "execution_count": null,
   "id": "63541bd8-6c5c-4c88-93f5-67bed6d0eeaf",
   "metadata": {},
   "outputs": [],
   "source": [
    "del"
   ]
  },
  {
   "cell_type": "code",
   "execution_count": 5,
   "id": "5107c427-b3f7-4f7b-8f3b-2d3ca6fec23b",
   "metadata": {},
   "outputs": [],
   "source": [
    "del dict1['lang2']"
   ]
  },
  {
   "cell_type": "code",
   "execution_count": 6,
   "id": "05ba739d-ea68-49c1-a71d-9bb64aa12fa1",
   "metadata": {},
   "outputs": [
    {
     "data": {
      "text/plain": [
       "{'lang1': 'py'}"
      ]
     },
     "execution_count": 6,
     "metadata": {},
     "output_type": "execute_result"
    }
   ],
   "source": [
    "dict1"
   ]
  },
  {
   "cell_type": "code",
   "execution_count": 7,
   "id": "23fbcd8b-52e1-4b03-a74d-e518da857efe",
   "metadata": {},
   "outputs": [
    {
     "ename": "KeyError",
     "evalue": "'lang2'",
     "output_type": "error",
     "traceback": [
      "\u001b[1;31m---------------------------------------------------------------------------\u001b[0m",
      "\u001b[1;31mKeyError\u001b[0m                                  Traceback (most recent call last)",
      "Cell \u001b[1;32mIn[7], line 1\u001b[0m\n\u001b[1;32m----> 1\u001b[0m dict1[\u001b[38;5;124m'\u001b[39m\u001b[38;5;124mlang2\u001b[39m\u001b[38;5;124m'\u001b[39m]\n",
      "\u001b[1;31mKeyError\u001b[0m: 'lang2'"
     ]
    }
   ],
   "source": [
    "dict1['lang2']"
   ]
  },
  {
   "cell_type": "code",
   "execution_count": null,
   "id": "f728e92b-17f9-4e69-8684-17268de89e2d",
   "metadata": {},
   "outputs": [],
   "source": []
  },
  {
   "cell_type": "code",
   "execution_count": null,
   "id": "73cda9a9-0eaf-4072-9b9a-21b0e0ddac45",
   "metadata": {},
   "outputs": [],
   "source": [
    "# get"
   ]
  },
  {
   "cell_type": "code",
   "execution_count": 10,
   "id": "6143b292-2042-44ca-a006-30b8b9b2fbaa",
   "metadata": {},
   "outputs": [
    {
     "data": {
      "text/plain": [
       "'lang2 is not more exist'"
      ]
     },
     "execution_count": 10,
     "metadata": {},
     "output_type": "execute_result"
    }
   ],
   "source": [
    "dict1.get('lang2', 'lang2 is not more exist')"
   ]
  },
  {
   "cell_type": "code",
   "execution_count": 9,
   "id": "481e05b6-2abf-4e0c-a173-de5e243e0382",
   "metadata": {},
   "outputs": [
    {
     "data": {
      "text/plain": [
       "'py'"
      ]
     },
     "execution_count": 9,
     "metadata": {},
     "output_type": "execute_result"
    }
   ],
   "source": [
    "dict1.get('lang1')"
   ]
  },
  {
   "cell_type": "code",
   "execution_count": null,
   "id": "9386fb6e-f01a-48a3-9621-77ee39723e12",
   "metadata": {},
   "outputs": [],
   "source": []
  },
  {
   "cell_type": "code",
   "execution_count": null,
   "id": "8e1a0aee-81f7-46a5-b780-f28940cfbd70",
   "metadata": {},
   "outputs": [],
   "source": [
    "# looping thru dict"
   ]
  },
  {
   "cell_type": "code",
   "execution_count": 11,
   "id": "6b36144a-9b18-4188-b34b-0e9567f92d95",
   "metadata": {},
   "outputs": [],
   "source": [
    "cars = {'comp1':'tata', 'comp2':'honda', 'comp3':'scoda'}"
   ]
  },
  {
   "cell_type": "code",
   "execution_count": 12,
   "id": "1dd90355-9e09-4a13-a33b-09656e69391b",
   "metadata": {},
   "outputs": [
    {
     "data": {
      "text/plain": [
       "{'comp1': 'tata', 'comp2': 'honda', 'comp3': 'scoda'}"
      ]
     },
     "execution_count": 12,
     "metadata": {},
     "output_type": "execute_result"
    }
   ],
   "source": [
    "cars"
   ]
  },
  {
   "cell_type": "code",
   "execution_count": 17,
   "id": "a0081967-c123-4d65-bb58-b77b0427cb5b",
   "metadata": {},
   "outputs": [
    {
     "name": "stdout",
     "output_type": "stream",
     "text": [
      "key : comp1\n",
      "value : tata\n",
      "key : comp2\n",
      "value : honda\n",
      "key : comp3\n",
      "value : scoda\n"
     ]
    }
   ],
   "source": [
    "for key,value in cars.items():\n",
    "    print(f\"key : {key}\")\n",
    "    print(f\"value : {value}\")"
   ]
  },
  {
   "cell_type": "code",
   "execution_count": null,
   "id": "d77df1f0-433b-4173-9bc9-354e0978c912",
   "metadata": {},
   "outputs": [],
   "source": []
  },
  {
   "cell_type": "code",
   "execution_count": 14,
   "id": "48550cc6-dfe6-4ff5-992c-3577039d2918",
   "metadata": {},
   "outputs": [
    {
     "name": "stdout",
     "output_type": "stream",
     "text": [
      "comp1\n",
      "comp2\n",
      "comp3\n"
     ]
    }
   ],
   "source": [
    "for i in cars.keys():\n",
    "    print(i)"
   ]
  },
  {
   "cell_type": "code",
   "execution_count": 16,
   "id": "2cb6c4f3-5afd-4693-9fe4-45058db8ab7f",
   "metadata": {},
   "outputs": [
    {
     "name": "stdout",
     "output_type": "stream",
     "text": [
      "tata\n",
      "honda\n",
      "scoda\n"
     ]
    }
   ],
   "source": [
    "for i in cars.values():\n",
    "    print(i)"
   ]
  },
  {
   "cell_type": "code",
   "execution_count": null,
   "id": "376ed336-9337-4d68-ae97-30dbf1be852f",
   "metadata": {},
   "outputs": [],
   "source": []
  },
  {
   "cell_type": "code",
   "execution_count": null,
   "id": "38e8ae3b-4904-4431-8f49-3171eae68164",
   "metadata": {},
   "outputs": [],
   "source": [
    "# set :-\n",
    "======\n",
    "\n",
    "as like list, tuple --> set also a collection which is used to store mul items in a single var\n",
    "\n",
    "# set is diffrent from other collections\n",
    "\n",
    "# set is a unorderd and un indexed collelction\n",
    "\n",
    "\n",
    "how to declare set:-\n",
    "------------------\n",
    "\n",
    "{ }\n",
    "\n",
    "\n",
    "exmp :- set1 = {1,2,3}\n",
    "\n",
    "prop:-\n",
    "=====\n",
    "\n",
    "set is mutable data type\n",
    "\n",
    "duplicates are not allowed in the set\n"
   ]
  },
  {
   "cell_type": "code",
   "execution_count": null,
   "id": "6cadf26b-660c-4148-87a8-f9f7180956df",
   "metadata": {},
   "outputs": [],
   "source": []
  },
  {
   "cell_type": "code",
   "execution_count": 18,
   "id": "5c84657d-0938-4993-a86c-6908ff8be35b",
   "metadata": {},
   "outputs": [],
   "source": [
    "set1 = {1,5,6,8}"
   ]
  },
  {
   "cell_type": "code",
   "execution_count": 19,
   "id": "9fe5a434-4f07-48cc-a59f-6ae52ff6a8df",
   "metadata": {},
   "outputs": [
    {
     "data": {
      "text/plain": [
       "{1, 5, 6, 8}"
      ]
     },
     "execution_count": 19,
     "metadata": {},
     "output_type": "execute_result"
    }
   ],
   "source": [
    "set1"
   ]
  },
  {
   "cell_type": "code",
   "execution_count": 20,
   "id": "97f8a77d-a587-4be3-8c81-0e1daa55b383",
   "metadata": {},
   "outputs": [
    {
     "data": {
      "text/plain": [
       "4"
      ]
     },
     "execution_count": 20,
     "metadata": {},
     "output_type": "execute_result"
    }
   ],
   "source": [
    "len(set1)"
   ]
  },
  {
   "cell_type": "code",
   "execution_count": 21,
   "id": "97086b36-1cfd-40db-a3fa-280bb3e71db9",
   "metadata": {},
   "outputs": [
    {
     "ename": "TypeError",
     "evalue": "'set' object is not subscriptable",
     "output_type": "error",
     "traceback": [
      "\u001b[1;31m---------------------------------------------------------------------------\u001b[0m",
      "\u001b[1;31mTypeError\u001b[0m                                 Traceback (most recent call last)",
      "Cell \u001b[1;32mIn[21], line 1\u001b[0m\n\u001b[1;32m----> 1\u001b[0m set1[\u001b[38;5;241m1\u001b[39m]\n",
      "\u001b[1;31mTypeError\u001b[0m: 'set' object is not subscriptable"
     ]
    }
   ],
   "source": [
    "set1[1]"
   ]
  },
  {
   "cell_type": "code",
   "execution_count": null,
   "id": "f86e67d0-c358-42e8-990c-0471cd650ca6",
   "metadata": {},
   "outputs": [],
   "source": []
  },
  {
   "cell_type": "code",
   "execution_count": 22,
   "id": "1dff3dca-9ca0-412a-9a34-83412fbf5e61",
   "metadata": {},
   "outputs": [],
   "source": [
    "set2 = {1,1,1,4,6,7,6}"
   ]
  },
  {
   "cell_type": "code",
   "execution_count": 23,
   "id": "997d207b-ee30-4dc9-a317-479446c4d5ba",
   "metadata": {},
   "outputs": [
    {
     "data": {
      "text/plain": [
       "{1, 4, 6, 7}"
      ]
     },
     "execution_count": 23,
     "metadata": {},
     "output_type": "execute_result"
    }
   ],
   "source": [
    "set2"
   ]
  },
  {
   "cell_type": "code",
   "execution_count": null,
   "id": "d94c81d7-e388-44fa-ac27-0287e3966fd2",
   "metadata": {},
   "outputs": [],
   "source": []
  },
  {
   "cell_type": "code",
   "execution_count": 24,
   "id": "a44a61ab-f462-49f9-91ed-e84f3d6cd5b5",
   "metadata": {},
   "outputs": [],
   "source": [
    "list1 = [1,2,3,4,3,7,8,8]"
   ]
  },
  {
   "cell_type": "code",
   "execution_count": 25,
   "id": "059c7db5-629d-471e-a43b-ccb64894f138",
   "metadata": {},
   "outputs": [
    {
     "data": {
      "text/plain": [
       "[1, 2, 3, 4, 3, 7, 8, 8]"
      ]
     },
     "execution_count": 25,
     "metadata": {},
     "output_type": "execute_result"
    }
   ],
   "source": [
    "list1"
   ]
  },
  {
   "cell_type": "code",
   "execution_count": null,
   "id": "4b909dc4-98b0-47b9-ae9b-f38fec98d274",
   "metadata": {},
   "outputs": [],
   "source": []
  },
  {
   "cell_type": "code",
   "execution_count": null,
   "id": "9a9bddb2-7ccb-47bb-bf25-39106f93408a",
   "metadata": {},
   "outputs": [],
   "source": [
    "list --> set ---> list"
   ]
  },
  {
   "cell_type": "code",
   "execution_count": 27,
   "id": "bc41b515-af17-48fe-9637-add16e40abae",
   "metadata": {},
   "outputs": [
    {
     "data": {
      "text/plain": [
       "[1, 2, 3, 4, 7, 8]"
      ]
     },
     "execution_count": 27,
     "metadata": {},
     "output_type": "execute_result"
    }
   ],
   "source": [
    "list(set(list1))"
   ]
  },
  {
   "cell_type": "code",
   "execution_count": null,
   "id": "4d8de89b-8af9-452a-94f8-1afcc61207e5",
   "metadata": {},
   "outputs": [],
   "source": []
  },
  {
   "cell_type": "code",
   "execution_count": 28,
   "id": "6b2f1919-5ccb-48e5-81f4-a2b388f6d376",
   "metadata": {},
   "outputs": [
    {
     "data": {
      "text/plain": [
       "{1, 5, 6, 8}"
      ]
     },
     "execution_count": 28,
     "metadata": {},
     "output_type": "execute_result"
    }
   ],
   "source": [
    "set1"
   ]
  },
  {
   "cell_type": "code",
   "execution_count": 31,
   "id": "753fcafa-e694-4e2e-9891-f827c50bea00",
   "metadata": {},
   "outputs": [
    {
     "name": "stdout",
     "output_type": "stream",
     "text": [
      "8\n",
      "1\n",
      "5\n",
      "6\n"
     ]
    }
   ],
   "source": [
    "for i in set1:\n",
    "    print(i)"
   ]
  },
  {
   "cell_type": "code",
   "execution_count": null,
   "id": "4ae6c112-c07e-45de-99a6-e164f567f202",
   "metadata": {},
   "outputs": [],
   "source": [
    "# how to add new item to a existing set"
   ]
  },
  {
   "cell_type": "code",
   "execution_count": 32,
   "id": "cde12b7e-c27a-4572-a772-132d4205978d",
   "metadata": {},
   "outputs": [],
   "source": [
    "# add\n",
    "\n",
    "set1.add(00)"
   ]
  },
  {
   "cell_type": "code",
   "execution_count": 33,
   "id": "8a823510-f97e-4cdb-9bcb-2915daa164a5",
   "metadata": {},
   "outputs": [
    {
     "data": {
      "text/plain": [
       "{0, 1, 5, 6, 8}"
      ]
     },
     "execution_count": 33,
     "metadata": {},
     "output_type": "execute_result"
    }
   ],
   "source": [
    "set1"
   ]
  },
  {
   "cell_type": "code",
   "execution_count": 34,
   "id": "b8046147-87cd-4d08-9b13-ad075cb55317",
   "metadata": {},
   "outputs": [],
   "source": [
    "set1.add(99)"
   ]
  },
  {
   "cell_type": "code",
   "execution_count": 35,
   "id": "caadfb47-359a-40d2-9925-44966b3d39c7",
   "metadata": {},
   "outputs": [
    {
     "data": {
      "text/plain": [
       "{0, 1, 5, 6, 8, 99}"
      ]
     },
     "execution_count": 35,
     "metadata": {},
     "output_type": "execute_result"
    }
   ],
   "source": [
    "set1"
   ]
  },
  {
   "cell_type": "code",
   "execution_count": null,
   "id": "04b9a9f0-0962-4ed7-813a-1f65ba4b07f5",
   "metadata": {},
   "outputs": [],
   "source": [
    "# how to remove an ietm from our set"
   ]
  },
  {
   "cell_type": "code",
   "execution_count": 36,
   "id": "61df2231-3861-4e2f-841a-2415db0bc545",
   "metadata": {},
   "outputs": [],
   "source": [
    "# remove\n",
    "\n",
    "set1.remove(99)"
   ]
  },
  {
   "cell_type": "code",
   "execution_count": 37,
   "id": "4face792-5f84-4035-afba-c04857e16771",
   "metadata": {},
   "outputs": [
    {
     "data": {
      "text/plain": [
       "{0, 1, 5, 6, 8}"
      ]
     },
     "execution_count": 37,
     "metadata": {},
     "output_type": "execute_result"
    }
   ],
   "source": [
    "set1"
   ]
  },
  {
   "cell_type": "code",
   "execution_count": 38,
   "id": "df80251a-bc36-4351-ba60-1707253eb27e",
   "metadata": {},
   "outputs": [],
   "source": [
    "# discard\n",
    "\n",
    "set1.discard(0)"
   ]
  },
  {
   "cell_type": "code",
   "execution_count": 39,
   "id": "a9835ba1-6bbf-4897-b618-b03ba3091905",
   "metadata": {},
   "outputs": [
    {
     "data": {
      "text/plain": [
       "{1, 5, 6, 8}"
      ]
     },
     "execution_count": 39,
     "metadata": {},
     "output_type": "execute_result"
    }
   ],
   "source": [
    "set1"
   ]
  },
  {
   "cell_type": "code",
   "execution_count": 40,
   "id": "8fde529b-0ca1-44d9-bc5b-61c3b7511746",
   "metadata": {},
   "outputs": [
    {
     "ename": "KeyError",
     "evalue": "0",
     "output_type": "error",
     "traceback": [
      "\u001b[1;31m---------------------------------------------------------------------------\u001b[0m",
      "\u001b[1;31mKeyError\u001b[0m                                  Traceback (most recent call last)",
      "Cell \u001b[1;32mIn[40], line 1\u001b[0m\n\u001b[1;32m----> 1\u001b[0m set1\u001b[38;5;241m.\u001b[39mremove(\u001b[38;5;241m0\u001b[39m)\n",
      "\u001b[1;31mKeyError\u001b[0m: 0"
     ]
    }
   ],
   "source": [
    "set1.remove(0)"
   ]
  },
  {
   "cell_type": "code",
   "execution_count": 41,
   "id": "af31bda8-0360-4e1e-be77-8a243ae8c12e",
   "metadata": {},
   "outputs": [],
   "source": [
    "set1.discard(0)"
   ]
  },
  {
   "cell_type": "code",
   "execution_count": null,
   "id": "dd092c43-545f-46b3-b6b0-c230598476da",
   "metadata": {},
   "outputs": [],
   "source": []
  },
  {
   "cell_type": "code",
   "execution_count": 42,
   "id": "31ed31c5-d019-4f67-945b-162b14cbbe7a",
   "metadata": {},
   "outputs": [
    {
     "ename": "AttributeError",
     "evalue": "'set' object has no attribute 'append'",
     "output_type": "error",
     "traceback": [
      "\u001b[1;31m---------------------------------------------------------------------------\u001b[0m",
      "\u001b[1;31mAttributeError\u001b[0m                            Traceback (most recent call last)",
      "Cell \u001b[1;32mIn[42], line 1\u001b[0m\n\u001b[1;32m----> 1\u001b[0m set1\u001b[38;5;241m.\u001b[39mappend(\u001b[38;5;241m77\u001b[39m)\n",
      "\u001b[1;31mAttributeError\u001b[0m: 'set' object has no attribute 'append'"
     ]
    }
   ],
   "source": [
    "set1.append(77)"
   ]
  },
  {
   "cell_type": "code",
   "execution_count": null,
   "id": "3ece2b5c-ed41-4461-8495-2adba0202edf",
   "metadata": {},
   "outputs": [],
   "source": []
  },
  {
   "cell_type": "code",
   "execution_count": null,
   "id": "aafe1778-acdb-4f46-924b-0bf51240f560",
   "metadata": {},
   "outputs": [],
   "source": []
  },
  {
   "cell_type": "code",
   "execution_count": null,
   "id": "87955954-88d1-45eb-b2c9-6e17a494ec77",
   "metadata": {},
   "outputs": [],
   "source": [
    "# functions:-\n",
    "============\n",
    "\n",
    "what is function?\n",
    "\n",
    "function is block of code, used to execute specfic task\n",
    "\n",
    "it also used for code reuslability\n"
   ]
  },
  {
   "cell_type": "code",
   "execution_count": null,
   "id": "6beb1b91-cfb6-4295-a9ed-413e7852d62f",
   "metadata": {},
   "outputs": [],
   "source": [
    "def   ----> define function"
   ]
  },
  {
   "cell_type": "code",
   "execution_count": null,
   "id": "5a8d8b34-9ae2-4a1f-a825-98b2be18a543",
   "metadata": {},
   "outputs": [],
   "source": [
    "def function_name():\n",
    "    stat1\n",
    "    stat2"
   ]
  },
  {
   "cell_type": "code",
   "execution_count": 47,
   "id": "185dd662-3ee6-4df7-a5c3-50ae5468de23",
   "metadata": {},
   "outputs": [],
   "source": [
    "def greet_user():\n",
    "    print(\"welcome\")"
   ]
  },
  {
   "cell_type": "code",
   "execution_count": 44,
   "id": "7d9face5-ab72-4773-9f03-5d4e129f0357",
   "metadata": {},
   "outputs": [
    {
     "name": "stdout",
     "output_type": "stream",
     "text": [
      "welcome\n"
     ]
    }
   ],
   "source": [
    "# how to call fun"
   ]
  },
  {
   "cell_type": "code",
   "execution_count": 48,
   "id": "d32a3989-ac3f-4682-a8a7-23bafa500a67",
   "metadata": {},
   "outputs": [
    {
     "name": "stdout",
     "output_type": "stream",
     "text": [
      "welcome\n"
     ]
    }
   ],
   "source": [
    "greet_user()"
   ]
  },
  {
   "cell_type": "code",
   "execution_count": null,
   "id": "8fb25bfa-4112-4553-90e0-416c7198f667",
   "metadata": {},
   "outputs": [],
   "source": [
    "# type of arguments:-\n",
    "\n",
    "1. positinal arg\n",
    "2. keyword args"
   ]
  },
  {
   "cell_type": "code",
   "execution_count": null,
   "id": "061f5871-8430-4cb9-bee1-67ee9705a6a2",
   "metadata": {},
   "outputs": [],
   "source": []
  },
  {
   "cell_type": "code",
   "execution_count": 49,
   "id": "c1765efd-8c73-40e7-bf33-ada4115cf673",
   "metadata": {},
   "outputs": [],
   "source": [
    "def desc_pet(animal_type, pet_name):\n",
    "    print(f\"my pet type is {animal_type}\")\n",
    "    print(f\"my pet_name is {pet_name}\")"
   ]
  },
  {
   "cell_type": "code",
   "execution_count": 50,
   "id": "2fb43658-0232-4462-b825-eb44958f580d",
   "metadata": {},
   "outputs": [
    {
     "name": "stdout",
     "output_type": "stream",
     "text": [
      "my pet type is dog\n",
      "my pet_name is chotu\n"
     ]
    }
   ],
   "source": [
    "desc_pet('dog','chotu')  # positinal arg"
   ]
  },
  {
   "cell_type": "code",
   "execution_count": 51,
   "id": "cf10e548-ce49-498d-97fa-83d3ed31ee4f",
   "metadata": {},
   "outputs": [
    {
     "name": "stdout",
     "output_type": "stream",
     "text": [
      "my pet type is chotu\n",
      "my pet_name is dog\n"
     ]
    }
   ],
   "source": [
    "desc_pet('chotu','dog')"
   ]
  },
  {
   "cell_type": "code",
   "execution_count": 52,
   "id": "8d2c8a3c-fdae-40f5-b1c7-fd822af46d0e",
   "metadata": {},
   "outputs": [],
   "source": [
    "def desc_pet(animal_type = 'lion', pet_name = 'lad'):\n",
    "    print(f\"my pet type is {animal_type}\")\n",
    "    print(f\"my pet_name is {pet_name}\")"
   ]
  },
  {
   "cell_type": "code",
   "execution_count": 53,
   "id": "c251fae5-bbe9-4b33-b58b-a4b26b59b981",
   "metadata": {},
   "outputs": [
    {
     "name": "stdout",
     "output_type": "stream",
     "text": [
      "my pet type is lion\n",
      "my pet_name is lad\n"
     ]
    }
   ],
   "source": [
    "desc_pet()"
   ]
  },
  {
   "cell_type": "code",
   "execution_count": 54,
   "id": "5c3432c6-3f3a-437b-9ef6-644f48bec925",
   "metadata": {},
   "outputs": [
    {
     "name": "stdout",
     "output_type": "stream",
     "text": [
      "my pet type is dd\n",
      "my pet_name is oo\n"
     ]
    }
   ],
   "source": [
    "desc_pet('dd','oo')"
   ]
  },
  {
   "cell_type": "code",
   "execution_count": null,
   "id": "0e198bd4-19fd-4e5c-bd99-253eb6356f53",
   "metadata": {},
   "outputs": [],
   "source": []
  },
  {
   "cell_type": "code",
   "execution_count": null,
   "id": "53c6990d-4c65-4fab-aed0-ea7034e50c81",
   "metadata": {},
   "outputs": [],
   "source": [
    "# intro to non-keyword args , keyword args\n",
    "\n",
    "*args\n",
    "**args"
   ]
  },
  {
   "cell_type": "code",
   "execution_count": null,
   "id": "352226b2-150d-46bb-b278-92b15a5fa0d9",
   "metadata": {},
   "outputs": [],
   "source": [
    "*args:-\n"
   ]
  },
  {
   "cell_type": "code",
   "execution_count": 57,
   "id": "93666720-2622-4551-aa16-b994dee55f10",
   "metadata": {},
   "outputs": [],
   "source": [
    "def stu_data(*stu):\n",
    "    print(type(stu))\n",
    "    for i in stu:\n",
    "        print(i)"
   ]
  },
  {
   "cell_type": "code",
   "execution_count": 58,
   "id": "5e9c9490-bc4a-456f-8fe8-adf5d7665dba",
   "metadata": {},
   "outputs": [
    {
     "name": "stdout",
     "output_type": "stream",
     "text": [
      "<class 'tuple'>\n",
      "aa\n",
      "bb\n",
      "cc\n",
      "pp\n"
     ]
    }
   ],
   "source": [
    "stu_data('aa','bb','cc','pp')"
   ]
  },
  {
   "cell_type": "code",
   "execution_count": null,
   "id": "2f44c812-e486-4990-a667-1b2a21741946",
   "metadata": {},
   "outputs": [],
   "source": [
    "**keywordagrs:-\n",
    "============="
   ]
  },
  {
   "cell_type": "code",
   "execution_count": 60,
   "id": "76ef71f1-fde2-479e-9584-501af60f652b",
   "metadata": {},
   "outputs": [],
   "source": [
    "def stu_data1(**data):\n",
    "    print(type(data))\n",
    "    for i,j in data.items():\n",
    "        print(i,j)"
   ]
  },
  {
   "cell_type": "code",
   "execution_count": 61,
   "id": "d48322e0-a651-4747-9949-c194adc29760",
   "metadata": {},
   "outputs": [
    {
     "name": "stdout",
     "output_type": "stream",
     "text": [
      "<class 'dict'>\n",
      "stu1 aa\n",
      "stu2 bb\n",
      "stu3 cc\n"
     ]
    }
   ],
   "source": [
    "stu_data1(stu1 = 'aa', stu2 ='bb', stu3 = 'cc')"
   ]
  },
  {
   "cell_type": "code",
   "execution_count": null,
   "id": "dc5c734a-8e4d-4ca7-b3f5-5a931e1e81df",
   "metadata": {},
   "outputs": [],
   "source": [
    "# return value"
   ]
  },
  {
   "cell_type": "code",
   "execution_count": 66,
   "id": "4924dbdb-915f-4247-85cb-2a8f38a219f7",
   "metadata": {},
   "outputs": [],
   "source": [
    "def math(a,b):\n",
    "    return a*b"
   ]
  },
  {
   "cell_type": "code",
   "execution_count": 68,
   "id": "7c7886fc-c233-48bf-a92b-30706b618674",
   "metadata": {},
   "outputs": [
    {
     "data": {
      "text/plain": [
       "4"
      ]
     },
     "execution_count": 68,
     "metadata": {},
     "output_type": "execute_result"
    }
   ],
   "source": [
    "math(2,2)"
   ]
  },
  {
   "cell_type": "code",
   "execution_count": 65,
   "id": "4896bb0c-7ec9-4f2a-b7a8-8c9a0d2b6fda",
   "metadata": {},
   "outputs": [],
   "source": [
    "def math1(a,b):\n",
    "    print(a*b)"
   ]
  },
  {
   "cell_type": "code",
   "execution_count": 69,
   "id": "81efde85-3bfa-44de-900f-2bd520b1fda1",
   "metadata": {},
   "outputs": [
    {
     "name": "stdout",
     "output_type": "stream",
     "text": [
      "4\n"
     ]
    }
   ],
   "source": [
    "math1(2,2)"
   ]
  },
  {
   "cell_type": "code",
   "execution_count": null,
   "id": "d508eee9-774a-48d6-906b-41572f04f50d",
   "metadata": {},
   "outputs": [],
   "source": []
  },
  {
   "cell_type": "code",
   "execution_count": 70,
   "id": "4aeb6476-e972-4563-becd-e25c87dd63e4",
   "metadata": {},
   "outputs": [],
   "source": [
    "val = math(2,3)"
   ]
  },
  {
   "cell_type": "code",
   "execution_count": 71,
   "id": "5208412f-7688-45c0-ab04-1b70223349e5",
   "metadata": {},
   "outputs": [
    {
     "data": {
      "text/plain": [
       "6"
      ]
     },
     "execution_count": 71,
     "metadata": {},
     "output_type": "execute_result"
    }
   ],
   "source": [
    "val"
   ]
  },
  {
   "cell_type": "code",
   "execution_count": null,
   "id": "8d07661e-4fc1-4bcd-8814-d6d1b87f092d",
   "metadata": {},
   "outputs": [],
   "source": []
  },
  {
   "cell_type": "code",
   "execution_count": null,
   "id": "7bd7f775-2f2a-4758-b03a-637b97015fdd",
   "metadata": {},
   "outputs": [],
   "source": [
    "# intro to class:-\n",
    "===============\n",
    "\n",
    "1. class is a blue print of an object\n",
    "2. with one class we can create mul objects or n num of objects\n",
    "\n",
    "\n",
    "method/ function:-\n",
    "=================\n",
    "\n",
    "method:-\n",
    "=======\n",
    "\n",
    "a fun inside a class can be called as method\n",
    "out class can be called as fcuntion\n",
    "\n"
   ]
  },
  {
   "cell_type": "code",
   "execution_count": null,
   "id": "7599dd6f-878f-4edf-bc36-f1340b5ef805",
   "metadata": {},
   "outputs": [],
   "source": []
  },
  {
   "cell_type": "code",
   "execution_count": 72,
   "id": "76a34967-437d-432f-8cc9-96057b42831b",
   "metadata": {},
   "outputs": [],
   "source": [
    "class exampleclass:\n",
    "    eyes = 'blue'\n",
    "    color = 'fair'\n",
    "    def myfun(self):\n",
    "        print(f\"her eye as {self.eyes} and her color is {self.color}\")"
   ]
  },
  {
   "cell_type": "code",
   "execution_count": null,
   "id": "4073867b-3766-4ecd-ab2f-ea3f04507d4a",
   "metadata": {},
   "outputs": [],
   "source": [
    "# self :-\n",
    "\n",
    "temp place holder to storing current object address or current object"
   ]
  },
  {
   "cell_type": "code",
   "execution_count": 73,
   "id": "a25c710b-d59b-4fe2-a411-a34f7bd2c512",
   "metadata": {},
   "outputs": [],
   "source": [
    "# how to create an object\n",
    "\n",
    "obj1 = exampleclass()"
   ]
  },
  {
   "cell_type": "code",
   "execution_count": 74,
   "id": "5710f631-e9fc-4f9e-8069-8cf9a50abccb",
   "metadata": {},
   "outputs": [
    {
     "data": {
      "text/plain": [
       "'blue'"
      ]
     },
     "execution_count": 74,
     "metadata": {},
     "output_type": "execute_result"
    }
   ],
   "source": [
    "obj1.eyes"
   ]
  },
  {
   "cell_type": "code",
   "execution_count": 76,
   "id": "aa92ddf6-d38d-49e6-84a9-404a0bcc2959",
   "metadata": {},
   "outputs": [
    {
     "data": {
      "text/plain": [
       "'fair'"
      ]
     },
     "execution_count": 76,
     "metadata": {},
     "output_type": "execute_result"
    }
   ],
   "source": [
    "obj1.color"
   ]
  },
  {
   "cell_type": "code",
   "execution_count": null,
   "id": "4fb243d4-88cf-4ffe-8cf9-8ad18082259e",
   "metadata": {},
   "outputs": [],
   "source": []
  },
  {
   "cell_type": "code",
   "execution_count": 78,
   "id": "c99f0fbb-ef43-4aee-991d-25d76fd31f0c",
   "metadata": {},
   "outputs": [
    {
     "name": "stdout",
     "output_type": "stream",
     "text": [
      "her eye as blue and her color is fair\n"
     ]
    }
   ],
   "source": [
    "obj1.myfun()"
   ]
  },
  {
   "cell_type": "code",
   "execution_count": null,
   "id": "cdb0dc30-f451-442d-879b-4d8da05e1a3d",
   "metadata": {},
   "outputs": [],
   "source": []
  },
  {
   "cell_type": "code",
   "execution_count": 85,
   "id": "d06925a8-6d38-4383-bc2c-a8ee6d0113d8",
   "metadata": {},
   "outputs": [],
   "source": [
    "class classname:\n",
    "    def createname(self,name):\n",
    "        self.name22 = name\n",
    "    def displayname(self):\n",
    "        print(f\"name is {self.name22}\")"
   ]
  },
  {
   "cell_type": "code",
   "execution_count": 86,
   "id": "18d82a74-da50-48af-a35d-0eb4b9ac1ac6",
   "metadata": {},
   "outputs": [],
   "source": [
    "create_name = classname()"
   ]
  },
  {
   "cell_type": "code",
   "execution_count": 87,
   "id": "c905cb40-6022-4861-85d2-9eebdef5bbcd",
   "metadata": {},
   "outputs": [],
   "source": [
    "create_name.createname('aa')"
   ]
  },
  {
   "cell_type": "code",
   "execution_count": 88,
   "id": "7b078cbb-e46b-4227-941b-c4f976082451",
   "metadata": {},
   "outputs": [
    {
     "name": "stdout",
     "output_type": "stream",
     "text": [
      "name is aa\n"
     ]
    }
   ],
   "source": [
    "create_name.displayname()"
   ]
  },
  {
   "cell_type": "code",
   "execution_count": null,
   "id": "e4d15dc0-2ecd-4f53-8243-a394ce4e2da8",
   "metadata": {},
   "outputs": [],
   "source": []
  },
  {
   "cell_type": "code",
   "execution_count": 89,
   "id": "068967e8-2107-4304-9cbe-446317212cab",
   "metadata": {},
   "outputs": [],
   "source": [
    "obj2 = classname()"
   ]
  },
  {
   "cell_type": "code",
   "execution_count": 90,
   "id": "9c1bb10c-c5a8-4300-84a5-57a65f86670f",
   "metadata": {},
   "outputs": [],
   "source": [
    "obj2.createname('bb')"
   ]
  },
  {
   "cell_type": "code",
   "execution_count": 91,
   "id": "f33cd304-6bd5-4585-9bd2-9644403def7e",
   "metadata": {},
   "outputs": [
    {
     "name": "stdout",
     "output_type": "stream",
     "text": [
      "name is bb\n"
     ]
    }
   ],
   "source": [
    "obj2.displayname()"
   ]
  },
  {
   "cell_type": "code",
   "execution_count": null,
   "id": "575bd8d3-3ce8-4f98-8679-d266b728dd6f",
   "metadata": {},
   "outputs": [],
   "source": []
  },
  {
   "cell_type": "code",
   "execution_count": null,
   "id": "255c0cbe-bc23-44e2-a390-10f92f664209",
   "metadata": {},
   "outputs": [],
   "source": [
    "Oops:-\n",
    "=====\n",
    "\n",
    "1. Inheritance\n",
    "2. Ploymorhism\n",
    "3. abstraction\n",
    "4. Encapsulation\n"
   ]
  },
  {
   "cell_type": "code",
   "execution_count": null,
   "id": "bae3b071-5486-4c7c-a36a-e38d0b7f213a",
   "metadata": {},
   "outputs": [],
   "source": []
  },
  {
   "cell_type": "code",
   "execution_count": null,
   "id": "93f5fc1b-3ea5-496d-b268-fcf0a7cdea7b",
   "metadata": {},
   "outputs": [],
   "source": []
  }
 ],
 "metadata": {
  "kernelspec": {
   "display_name": "Python 3 (ipykernel)",
   "language": "python",
   "name": "python3"
  },
  "language_info": {
   "codemirror_mode": {
    "name": "ipython",
    "version": 3
   },
   "file_extension": ".py",
   "mimetype": "text/x-python",
   "name": "python",
   "nbconvert_exporter": "python",
   "pygments_lexer": "ipython3",
   "version": "3.13.5"
  }
 },
 "nbformat": 4,
 "nbformat_minor": 5
}
